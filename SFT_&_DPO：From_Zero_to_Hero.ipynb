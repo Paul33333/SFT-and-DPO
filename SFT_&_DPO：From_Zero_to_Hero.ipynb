{
  "cells": [
    {
      "cell_type": "markdown",
      "metadata": {
        "id": "view-in-github",
        "colab_type": "text"
      },
      "source": [
        "<a href=\"https://colab.research.google.com/github/Paul33333/SFT-and-DPO/blob/main/SFT_%26_DPO%EF%BC%9AFrom_Zero_to_Hero.ipynb\" target=\"_parent\"><img src=\"https://colab.research.google.com/assets/colab-badge.svg\" alt=\"Open In Colab\"/></a>"
      ]
    },
    {
      "cell_type": "code",
      "execution_count": null,
      "metadata": {
        "colab": {
          "base_uri": "https://localhost:8080/"
        },
        "id": "sSlqLG5h25iv",
        "outputId": "7c793706-ea85-476b-99ec-3e21045d789f"
      },
      "outputs": [
        {
          "name": "stdout",
          "output_type": "stream",
          "text": [
            "Requirement already satisfied: accelerate in /usr/local/lib/python3.10/dist-packages (0.32.1)\n",
            "Requirement already satisfied: datasets in /usr/local/lib/python3.10/dist-packages (2.20.0)\n",
            "Requirement already satisfied: numpy<2.0.0,>=1.17 in /usr/local/lib/python3.10/dist-packages (from accelerate) (1.25.2)\n",
            "Requirement already satisfied: packaging>=20.0 in /usr/local/lib/python3.10/dist-packages (from accelerate) (24.1)\n",
            "Requirement already satisfied: psutil in /usr/local/lib/python3.10/dist-packages (from accelerate) (5.9.5)\n",
            "Requirement already satisfied: pyyaml in /usr/local/lib/python3.10/dist-packages (from accelerate) (6.0.1)\n",
            "Requirement already satisfied: torch>=1.10.0 in /usr/local/lib/python3.10/dist-packages (from accelerate) (2.3.1+cu121)\n",
            "Requirement already satisfied: huggingface-hub in /usr/local/lib/python3.10/dist-packages (from accelerate) (0.23.5)\n",
            "Requirement already satisfied: safetensors>=0.3.1 in /usr/local/lib/python3.10/dist-packages (from accelerate) (0.4.3)\n",
            "Requirement already satisfied: filelock in /usr/local/lib/python3.10/dist-packages (from datasets) (3.15.4)\n",
            "Requirement already satisfied: pyarrow>=15.0.0 in /usr/local/lib/python3.10/dist-packages (from datasets) (17.0.0)\n",
            "Requirement already satisfied: pyarrow-hotfix in /usr/local/lib/python3.10/dist-packages (from datasets) (0.6)\n",
            "Requirement already satisfied: dill<0.3.9,>=0.3.0 in /usr/local/lib/python3.10/dist-packages (from datasets) (0.3.8)\n",
            "Requirement already satisfied: pandas in /usr/local/lib/python3.10/dist-packages (from datasets) (2.0.3)\n",
            "Requirement already satisfied: requests>=2.32.2 in /usr/local/lib/python3.10/dist-packages (from datasets) (2.32.3)\n",
            "Requirement already satisfied: tqdm>=4.66.3 in /usr/local/lib/python3.10/dist-packages (from datasets) (4.66.4)\n",
            "Requirement already satisfied: xxhash in /usr/local/lib/python3.10/dist-packages (from datasets) (3.4.1)\n",
            "Requirement already satisfied: multiprocess in /usr/local/lib/python3.10/dist-packages (from datasets) (0.70.16)\n",
            "Requirement already satisfied: fsspec[http]<=2024.5.0,>=2023.1.0 in /usr/local/lib/python3.10/dist-packages (from datasets) (2023.6.0)\n",
            "Requirement already satisfied: aiohttp in /usr/local/lib/python3.10/dist-packages (from datasets) (3.9.5)\n",
            "Requirement already satisfied: aiosignal>=1.1.2 in /usr/local/lib/python3.10/dist-packages (from aiohttp->datasets) (1.3.1)\n",
            "Requirement already satisfied: attrs>=17.3.0 in /usr/local/lib/python3.10/dist-packages (from aiohttp->datasets) (23.2.0)\n",
            "Requirement already satisfied: frozenlist>=1.1.1 in /usr/local/lib/python3.10/dist-packages (from aiohttp->datasets) (1.4.1)\n",
            "Requirement already satisfied: multidict<7.0,>=4.5 in /usr/local/lib/python3.10/dist-packages (from aiohttp->datasets) (6.0.5)\n",
            "Requirement already satisfied: yarl<2.0,>=1.0 in /usr/local/lib/python3.10/dist-packages (from aiohttp->datasets) (1.9.4)\n",
            "Requirement already satisfied: async-timeout<5.0,>=4.0 in /usr/local/lib/python3.10/dist-packages (from aiohttp->datasets) (4.0.3)\n",
            "Requirement already satisfied: typing-extensions>=3.7.4.3 in /usr/local/lib/python3.10/dist-packages (from huggingface-hub->accelerate) (4.12.2)\n",
            "Requirement already satisfied: charset-normalizer<4,>=2 in /usr/local/lib/python3.10/dist-packages (from requests>=2.32.2->datasets) (3.3.2)\n",
            "Requirement already satisfied: idna<4,>=2.5 in /usr/local/lib/python3.10/dist-packages (from requests>=2.32.2->datasets) (3.7)\n",
            "Requirement already satisfied: urllib3<3,>=1.21.1 in /usr/local/lib/python3.10/dist-packages (from requests>=2.32.2->datasets) (2.0.7)\n",
            "Requirement already satisfied: certifi>=2017.4.17 in /usr/local/lib/python3.10/dist-packages (from requests>=2.32.2->datasets) (2024.7.4)\n",
            "Requirement already satisfied: sympy in /usr/local/lib/python3.10/dist-packages (from torch>=1.10.0->accelerate) (1.13.0)\n",
            "Requirement already satisfied: networkx in /usr/local/lib/python3.10/dist-packages (from torch>=1.10.0->accelerate) (3.3)\n",
            "Requirement already satisfied: jinja2 in /usr/local/lib/python3.10/dist-packages (from torch>=1.10.0->accelerate) (3.1.4)\n",
            "Requirement already satisfied: nvidia-cuda-nvrtc-cu12==12.1.105 in /usr/local/lib/python3.10/dist-packages (from torch>=1.10.0->accelerate) (12.1.105)\n",
            "Requirement already satisfied: nvidia-cuda-runtime-cu12==12.1.105 in /usr/local/lib/python3.10/dist-packages (from torch>=1.10.0->accelerate) (12.1.105)\n",
            "Requirement already satisfied: nvidia-cuda-cupti-cu12==12.1.105 in /usr/local/lib/python3.10/dist-packages (from torch>=1.10.0->accelerate) (12.1.105)\n",
            "Requirement already satisfied: nvidia-cudnn-cu12==8.9.2.26 in /usr/local/lib/python3.10/dist-packages (from torch>=1.10.0->accelerate) (8.9.2.26)\n",
            "Requirement already satisfied: nvidia-cublas-cu12==12.1.3.1 in /usr/local/lib/python3.10/dist-packages (from torch>=1.10.0->accelerate) (12.1.3.1)\n",
            "Requirement already satisfied: nvidia-cufft-cu12==11.0.2.54 in /usr/local/lib/python3.10/dist-packages (from torch>=1.10.0->accelerate) (11.0.2.54)\n",
            "Requirement already satisfied: nvidia-curand-cu12==10.3.2.106 in /usr/local/lib/python3.10/dist-packages (from torch>=1.10.0->accelerate) (10.3.2.106)\n",
            "Requirement already satisfied: nvidia-cusolver-cu12==11.4.5.107 in /usr/local/lib/python3.10/dist-packages (from torch>=1.10.0->accelerate) (11.4.5.107)\n",
            "Requirement already satisfied: nvidia-cusparse-cu12==12.1.0.106 in /usr/local/lib/python3.10/dist-packages (from torch>=1.10.0->accelerate) (12.1.0.106)\n",
            "Requirement already satisfied: nvidia-nccl-cu12==2.20.5 in /usr/local/lib/python3.10/dist-packages (from torch>=1.10.0->accelerate) (2.20.5)\n",
            "Requirement already satisfied: nvidia-nvtx-cu12==12.1.105 in /usr/local/lib/python3.10/dist-packages (from torch>=1.10.0->accelerate) (12.1.105)\n",
            "Requirement already satisfied: triton==2.3.1 in /usr/local/lib/python3.10/dist-packages (from torch>=1.10.0->accelerate) (2.3.1)\n",
            "Requirement already satisfied: nvidia-nvjitlink-cu12 in /usr/local/lib/python3.10/dist-packages (from nvidia-cusolver-cu12==11.4.5.107->torch>=1.10.0->accelerate) (12.5.82)\n",
            "Requirement already satisfied: python-dateutil>=2.8.2 in /usr/local/lib/python3.10/dist-packages (from pandas->datasets) (2.8.2)\n",
            "Requirement already satisfied: pytz>=2020.1 in /usr/local/lib/python3.10/dist-packages (from pandas->datasets) (2023.4)\n",
            "Requirement already satisfied: tzdata>=2022.1 in /usr/local/lib/python3.10/dist-packages (from pandas->datasets) (2024.1)\n",
            "Requirement already satisfied: six>=1.5 in /usr/local/lib/python3.10/dist-packages (from python-dateutil>=2.8.2->pandas->datasets) (1.16.0)\n",
            "Requirement already satisfied: MarkupSafe>=2.0 in /usr/local/lib/python3.10/dist-packages (from jinja2->torch>=1.10.0->accelerate) (2.1.5)\n",
            "Requirement already satisfied: mpmath<1.4,>=1.1.0 in /usr/local/lib/python3.10/dist-packages (from sympy->torch>=1.10.0->accelerate) (1.3.0)\n"
          ]
        }
      ],
      "source": [
        "!pip install accelerate datasets"
      ]
    },
    {
      "cell_type": "markdown",
      "metadata": {
        "id": "mVbChjKm3SEn"
      },
      "source": [
        "# 零、预训练 - Pre-training 本文不涉及从零预训练一个基座模型\n",
        " - 选择导入qwen2系列的最小模型【qwen2-0.5B】作为基座模型"
      ]
    },
    {
      "cell_type": "markdown",
      "metadata": {
        "id": "hElUf-W-4b0w"
      },
      "source": [
        "### **加载qwen2-0.5B基座模型**"
      ]
    },
    {
      "cell_type": "code",
      "execution_count": null,
      "metadata": {
        "colab": {
          "base_uri": "https://localhost:8080/"
        },
        "id": "NoiUTuOp34i_",
        "outputId": "1d7862f5-df61-4a02-b180-49a01663ae29"
      },
      "outputs": [
        {
          "name": "stderr",
          "output_type": "stream",
          "text": [
            "Special tokens have been added in the vocabulary, make sure the associated word embeddings are fine-tuned or trained.\n"
          ]
        }
      ],
      "source": [
        "from transformers import AutoModelForCausalLM, AutoTokenizer\n",
        "import torch\n",
        "import numpy as np\n",
        "import os\n",
        "\n",
        "device = \"cuda\" # the device to load the model onto\n",
        "model_name = \"Qwen2-0.5B\"\n",
        "model_path = f'Qwen/{model_name}'\n",
        "\n",
        "# 获取可用GPU设备的数量和内存信息\n",
        "gpu_memory = {i: torch.cuda.get_device_properties(i).total_memory for i in range(torch.cuda.device_count())}\n",
        "# 加载模型\n",
        "try:\n",
        "    model = AutoModelForCausalLM.from_pretrained(\n",
        "        model_path,\n",
        "        torch_dtype=\"auto\",\n",
        "        device_map=\"balanced\",\n",
        "        max_memory={i: f\"{gpu_memory[i] // (1024 ** 3)}GB\" for i in range(len(gpu_memory))}\n",
        "    )\n",
        "except Exception as e:\n",
        "    print(f\"Failed to load model from {model_path}: {e}\")\n",
        "    raise\n",
        "# 加载分词器\n",
        "tokenizer = AutoTokenizer.from_pretrained(model_path)"
      ]
    },
    {
      "cell_type": "markdown",
      "metadata": {
        "id": "rYNNGO1WJwhy"
      },
      "source": [
        "### **重设模型的generation_config文件，以便最后对比训练前后生成式问答的效果**"
      ]
    },
    {
      "cell_type": "code",
      "execution_count": null,
      "metadata": {
        "colab": {
          "base_uri": "https://localhost:8080/"
        },
        "id": "0TVtSL-jJuRD",
        "outputId": "b6966e91-f911-451e-ad00-74a7e4c3b28e"
      },
      "outputs": [
        {
          "data": {
            "text/plain": [
              "GenerationConfig {\n",
              "  \"bos_token_id\": 151643,\n",
              "  \"do_sample\": true,\n",
              "  \"eos_token_id\": [\n",
              "    151645,\n",
              "    151643\n",
              "  ],\n",
              "  \"max_new_tokens\": 2048,\n",
              "  \"pad_token_id\": 151643,\n",
              "  \"repetition_penalty\": 1.05,\n",
              "  \"temperature\": 0.7,\n",
              "  \"top_k\": 20,\n",
              "  \"top_p\": 0.8\n",
              "}"
            ]
          },
          "execution_count": 3,
          "metadata": {},
          "output_type": "execute_result"
        }
      ],
      "source": [
        "model.generation_config\n",
        "\n",
        "model.generation_config.do_sample = True\n",
        "model.generation_config.eos_token_id = [151645, 151643]\n",
        "model.generation_config.pad_token_id = 151643\n",
        "model.generation_config.temperature = 0.7\n",
        "model.generation_config.top_p = 0.8\n",
        "model.generation_config.top_k = 20\n",
        "model.generation_config.transformers_version = \"4.37.0\"\n",
        "model.generation_config.repetition_penalty = 1.05\n",
        "\n",
        "model.generation_config"
      ]
    },
    {
      "cell_type": "markdown",
      "metadata": {
        "id": "BuvkcJDQ3dnG"
      },
      "source": [
        "# 一、SFT - supervised fine-tuning (有监督的微调)"
      ]
    },
    {
      "cell_type": "markdown",
      "metadata": {
        "id": "yIsL2Rl55bJ3"
      },
      "source": [
        "## **1-1、定义SFT阶段模型训练超参**"
      ]
    },
    {
      "cell_type": "code",
      "execution_count": null,
      "metadata": {
        "id": "a8O6T2Ak3P3Z"
      },
      "outputs": [],
      "source": [
        "from dataclasses import dataclass\n",
        "@dataclass\n",
        "class modelConfig:\n",
        "    max_length:int = 2500\n",
        "    batch_size:int = 2\n",
        "    gradient_accumulation_steps:int = 8\n",
        "    log_iter:int = 400\n",
        "    max_lr:float = 2e-5\n",
        "    min_lr:float = 2e-6\n",
        "    warmup_steps:int = 1000"
      ]
    },
    {
      "cell_type": "markdown",
      "metadata": {
        "id": "LFmhLq7953Pv"
      },
      "source": [
        "## **1-2、导入训练数据**\n",
        "- 训练数据取自：https://huggingface.co/datasets/HuggingFaceH4/ultrachat_200k"
      ]
    },
    {
      "cell_type": "code",
      "execution_count": null,
      "metadata": {
        "id": "PGFdRoYw3P6U"
      },
      "outputs": [],
      "source": [
        "import datasets\n",
        "ultrachat_200k_data = datasets.load_dataset('HuggingFaceH4/ultrachat_200k')"
      ]
    },
    {
      "cell_type": "markdown",
      "metadata": {
        "id": "kHcCVCht6pck"
      },
      "source": [
        "## 1-3、**训练数据转化成tokenid：str -> tokenid**"
      ]
    },
    {
      "cell_type": "code",
      "execution_count": null,
      "metadata": {
        "colab": {
          "base_uri": "https://localhost:8080/"
        },
        "id": "17VeZL_c3P_T",
        "outputId": "9fd96756-8a69-42d2-ac7d-f1adf63a558d"
      },
      "outputs": [
        {
          "name": "stdout",
          "output_type": "stream",
          "text": [
            "已处理1000条数据\n",
            "已处理2000条数据\n",
            "已处理3000条数据\n",
            "已处理4000条数据\n",
            "已处理5000条数据\n",
            "已处理6000条数据\n",
            "已处理7000条数据\n",
            "已处理8000条数据\n",
            "已处理9000条数据\n",
            "已处理10000条数据\n",
            "已处理11000条数据\n",
            "已处理12000条数据\n",
            "已处理13000条数据\n",
            "已处理14000条数据\n",
            "已处理15000条数据\n",
            "已处理16000条数据\n",
            "已处理17000条数据\n",
            "已处理18000条数据\n",
            "已处理19000条数据\n",
            "已处理20000条数据\n",
            "已处理21000条数据\n",
            "已处理22000条数据\n",
            "已处理23000条数据\n",
            "已处理24000条数据\n",
            "已处理25000条数据\n",
            "已处理26000条数据\n",
            "已处理27000条数据\n",
            "已处理28000条数据\n",
            "已处理29000条数据\n",
            "已处理30000条数据\n",
            "已处理31000条数据\n",
            "已处理32000条数据\n",
            "已处理33000条数据\n",
            "已处理34000条数据\n",
            "已处理35000条数据\n",
            "已处理36000条数据\n",
            "已处理37000条数据\n",
            "已处理38000条数据\n",
            "已处理39000条数据\n",
            "已处理40000条数据\n",
            "已处理41000条数据\n",
            "已处理42000条数据\n",
            "已处理43000条数据\n",
            "已处理44000条数据\n",
            "已处理45000条数据\n",
            "已处理46000条数据\n",
            "已处理47000条数据\n",
            "已处理48000条数据\n",
            "已处理49000条数据\n",
            "已处理50000条数据\n",
            "----------------------------------------------------------------------\n"
          ]
        }
      ],
      "source": [
        "def tokenize_and_format(data): # data: List[Dict[str, str]]\n",
        "        input_ids = tokenizer.apply_chat_template(\n",
        "    data, # Union[List[Dict[str, str]]\n",
        "    tokenize = True,\n",
        "    add_generation_prompt = False,\n",
        "    #padding = True,\n",
        "    truncation = True,\n",
        "    max_length = modelConfig.max_length,\n",
        ")\n",
        "\n",
        "        return input_ids #tag_ids\n",
        "\n",
        "## 生成训练数据的tokenid\n",
        "chosen_input_ids_list = []\n",
        "i = 0\n",
        "while True:\n",
        "    data = ultrachat_200k_data['train_sft'][i]['messages']\n",
        "    data.insert(0, {\"content\": \"You are a helpful assistant\", \"role\": \"system\"})\n",
        "    input_ids = tokenize_and_format(data)\n",
        "    chosen_input_ids_list.append(input_ids)\n",
        "    i += 1\n",
        "    if i%1000 == 0:\n",
        "        print(f\"已处理{i}条数据\")\n",
        "    if i == 50000:#len(ultrachat_200k_data['train_sft']):\n",
        "        break\n",
        "print('-'*70)"
      ]
    },
    {
      "cell_type": "markdown",
      "metadata": {
        "id": "JnaVQ5V174mZ"
      },
      "source": [
        "## **1-4、使用设置的训练超参数**"
      ]
    },
    {
      "cell_type": "code",
      "execution_count": null,
      "metadata": {
        "id": "2WZ8vzMi3QEE"
      },
      "outputs": [],
      "source": [
        "batch_size = modelConfig.batch_size\n",
        "gradient_accumulation_steps = modelConfig.gradient_accumulation_steps\n",
        "log_iter = modelConfig.log_iter\n",
        "max_lr = modelConfig.max_lr\n",
        "min_lr = modelConfig.min_lr\n",
        "warmup_steps = modelConfig.warmup_steps\n",
        "total_steps = len(chosen_input_ids_list)//batch_size\n",
        "optimizer = torch.optim.AdamW(filter(lambda p:p.requires_grad, model.parameters()), lr=max_lr)\n",
        "trainable_parameters_num = sum(p.numel() for p in filter(lambda p:p.requires_grad, model.parameters()))  ##全参微调"
      ]
    },
    {
      "cell_type": "markdown",
      "metadata": {
        "id": "uo3f04cz8YOT"
      },
      "source": [
        "## **1-5、配置logging日志记录模型训练过程**"
      ]
    },
    {
      "cell_type": "code",
      "execution_count": null,
      "metadata": {
        "id": "NR1p5yMQ3QLb"
      },
      "outputs": [],
      "source": [
        "##配置logging\n",
        "import time\n",
        "with open(f\"./{model_name}-SFT_log.txt\", \"a\") as my_file:\n",
        "  my_file.write(f'time:{time.strftime(\"%Y-%m-%d, %H:%M:%S\")}, batch_size:{batch_size}, trainable_parameters_num:{trainable_parameters_num}, warmup_steps:{warmup_steps}, max_lr:{max_lr}, min_lr:{min_lr}\\n')\n",
        "#定义一个日志记录函数\n",
        "def log_call(iters, iters_average_loss):\n",
        "  with open(f\"./{model_name}-SFT_log.txt\", \"a\") as my_file:\n",
        "    my_file.write(f'time:{time.strftime(\"%Y-%m-%d, %H:%M:%S\")}, iters:{iters+1}, iters_average_Loss:{iters_average_loss:.4f}\\n')"
      ]
    },
    {
      "cell_type": "markdown",
      "metadata": {
        "id": "SkSsjNAE80IV"
      },
      "source": [
        "## **1-6、学习率设置：余弦衰减学习率**"
      ]
    },
    {
      "cell_type": "markdown",
      "metadata": {
        "id": "DFucCeC89coy"
      },
      "source": [
        "![余弦衰减学习率设置.png](data:image/png;base64,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)"
      ]
    },
    {
      "cell_type": "code",
      "execution_count": null,
      "metadata": {
        "id": "byT-uuJW3QS0"
      },
      "outputs": [],
      "source": [
        "def linear_warmup(current_step, warmup_steps, max_lr):\n",
        "    if current_step < warmup_steps:\n",
        "        return max_lr * current_step / warmup_steps\n",
        "    else:\n",
        "        return max_lr\n",
        "\n",
        "def cosine_decay(current_step, warmup_steps, total_steps, max_lr, min_lr):\n",
        "    if current_step < warmup_steps:\n",
        "        return linear_warmup(current_step, warmup_steps, max_lr)\n",
        "    else:\n",
        "        progress = (current_step - warmup_steps) / (total_steps - warmup_steps)\n",
        "        decay = 0.5 * (1 + np.cos(np.pi * progress))\n",
        "        return (max_lr - min_lr) * decay + min_lr"
      ]
    },
    {
      "cell_type": "markdown",
      "metadata": {
        "id": "FQcp6bxm96z6"
      },
      "source": [
        "## **1-7、掩码设置**\n",
        "- **SFT和预训练的区别核心就是掩码掉“问题”部分的损失，而【只看“回答”部分的损失】，并仅基于回答部分的损失进行优化**\n",
        "- **实现方式：【构造损失掩码】，仅针对每轮对话（含多轮）的模型“输出”部分（也就是回答部分）进行损失计算**"
      ]
    },
    {
      "cell_type": "code",
      "execution_count": null,
      "metadata": {
        "id": "XhHNTo5G3QXt"
      },
      "outputs": [],
      "source": [
        "# 设置问题部分的掩码函数，用于执行仅针对回答部分才计算损失\n",
        "def return_answer_mask(input_ids):\n",
        "  assistant_answer_mask = torch.zeros_like(input_ids) #0初始化\n",
        "  for i in range(input_ids.shape[0]):\n",
        "        ## user部分的结尾\\n: \\n是<|im_end|>的下一个元素，所以有+1 【这个地方需要根据不同模型的不同聊天模版自定义更改】，关于聊天模版可阅读这篇文章：https://huggingface.co/blog/chat-templates\n",
        "        i_user_end_list = [i+1 for i in torch.where(input_ids[i]==tokenizer.encode('<|im_end|>')[0])[0].tolist()[1::2]]\n",
        "        ## assistant部分的结尾\\n：\\n是<|im_end|>的下一个元素，所以有+1 【这个地方需要根据不同模型的不同聊天模版自定义更改】\n",
        "        i_assistant_end_list = [i+1 for i in torch.where(input_ids[i]==tokenizer.encode('<|im_end|>')[0])[0].tolist()[2::2]]\n",
        "\n",
        "        if len(i_user_end_list)==len(i_assistant_end_list):\n",
        "            for user_end, assistant_end in zip(i_user_end_list, i_assistant_end_list):\n",
        "                assistant_answer_mask[i][user_end+3:assistant_end-1]=1 #+3的操作，【这个地方需要根据不同模型的不同聊天模版自定义更改】\n",
        "        elif len(i_user_end_list)==len(i_assistant_end_list)+1==1:  ##单轮问答,且回答部分未结尾就被截断了\n",
        "            assistant_answer_mask[i][i_user_end_list[0]+3:]=1  ##会把右补的padding token也标记为1，所以后面还需要再结合padding mask以过滤padding\n",
        "        elif len(i_user_end_list)==len(i_assistant_end_list)+1:   ##兼顾多轮问答\n",
        "            assistant_answer_mask[i][i_user_end_list[-1]+3:]=1\n",
        "            for user_end, assistant_end in zip(i_user_end_list[:-1], i_assistant_end_list):\n",
        "                assistant_answer_mask[i][user_end+3:assistant_end-1]=1\n",
        "        else:\n",
        "            continue  ##跳出当前循环，继续下一次循环\n",
        "  return assistant_answer_mask"
      ]
    },
    {
      "cell_type": "markdown",
      "metadata": {
        "id": "6mHC5SgYBpSX"
      },
      "source": [
        "## **1-8、开启SFT微调训练**"
      ]
    },
    {
      "cell_type": "code",
      "execution_count": null,
      "metadata": {
        "colab": {
          "base_uri": "https://localhost:8080/"
        },
        "id": "ZRqpgMjq3Qff",
        "outputId": "dc263389-aa6d-4a9b-b871-2721069ae0f9"
      },
      "outputs": [
        {
          "name": "stderr",
          "output_type": "stream",
          "text": [
            "We detected that you are passing `past_key_values` as a tuple and this is deprecated and will be removed in v4.43. Please use an appropriate `Cache` class (https://huggingface.co/docs/transformers/v4.41.3/en/internal/generation_utils#transformers.Cache)\n"
          ]
        },
        {
          "name": "stdout",
          "output_type": "stream",
          "text": [
            "time:2024-07-20, 04:21:05, iters:400, last_400_iters_average_train_Loss:1.3371\n",
            "time:2024-07-20, 04:22:31, iters:800, last_400_iters_average_train_Loss:1.2896\n",
            "time:2024-07-20, 04:23:55, iters:1200, last_400_iters_average_train_Loss:1.2797\n",
            "time:2024-07-20, 04:25:21, iters:1600, last_400_iters_average_train_Loss:1.2932\n",
            "time:2024-07-20, 04:26:46, iters:2000, last_400_iters_average_train_Loss:1.2727\n",
            "time:2024-07-20, 04:28:09, iters:2400, last_400_iters_average_train_Loss:1.3043\n",
            "time:2024-07-20, 04:29:34, iters:2800, last_400_iters_average_train_Loss:1.2787\n",
            "time:2024-07-20, 04:30:56, iters:3200, last_400_iters_average_train_Loss:1.2711\n",
            "time:2024-07-20, 04:32:24, iters:3600, last_400_iters_average_train_Loss:1.2975\n",
            "time:2024-07-20, 04:33:52, iters:4000, last_400_iters_average_train_Loss:1.2659\n",
            "time:2024-07-20, 04:35:15, iters:4400, last_400_iters_average_train_Loss:1.2862\n",
            "time:2024-07-20, 04:36:41, iters:4800, last_400_iters_average_train_Loss:1.2815\n",
            "time:2024-07-20, 04:38:07, iters:5200, last_400_iters_average_train_Loss:1.2542\n",
            "time:2024-07-20, 04:39:34, iters:5600, last_400_iters_average_train_Loss:1.2784\n",
            "time:2024-07-20, 04:40:56, iters:6000, last_400_iters_average_train_Loss:1.2919\n",
            "time:2024-07-20, 04:42:21, iters:6400, last_400_iters_average_train_Loss:1.2732\n",
            "time:2024-07-20, 04:43:46, iters:6800, last_400_iters_average_train_Loss:1.2952\n",
            "time:2024-07-20, 04:45:11, iters:7200, last_400_iters_average_train_Loss:1.2933\n",
            "time:2024-07-20, 04:46:38, iters:7600, last_400_iters_average_train_Loss:1.2887\n",
            "time:2024-07-20, 04:48:04, iters:8000, last_400_iters_average_train_Loss:1.2771\n",
            "time:2024-07-20, 04:49:29, iters:8400, last_400_iters_average_train_Loss:1.2618\n",
            "time:2024-07-20, 04:50:56, iters:8800, last_400_iters_average_train_Loss:1.2991\n",
            "time:2024-07-20, 04:52:22, iters:9200, last_400_iters_average_train_Loss:1.2611\n",
            "time:2024-07-20, 04:53:52, iters:9600, last_400_iters_average_train_Loss:1.2912\n",
            "time:2024-07-20, 04:55:23, iters:10000, last_400_iters_average_train_Loss:1.2783\n",
            "time:2024-07-20, 04:56:49, iters:10400, last_400_iters_average_train_Loss:1.2702\n",
            "time:2024-07-20, 04:58:16, iters:10800, last_400_iters_average_train_Loss:1.2830\n",
            "time:2024-07-20, 04:59:40, iters:11200, last_400_iters_average_train_Loss:1.2756\n",
            "time:2024-07-20, 05:01:03, iters:11600, last_400_iters_average_train_Loss:1.2612\n",
            "time:2024-07-20, 05:02:27, iters:12000, last_400_iters_average_train_Loss:1.2716\n",
            "time:2024-07-20, 05:03:52, iters:12400, last_400_iters_average_train_Loss:1.2753\n",
            "time:2024-07-20, 05:05:17, iters:12800, last_400_iters_average_train_Loss:1.2781\n",
            "time:2024-07-20, 05:06:45, iters:13200, last_400_iters_average_train_Loss:1.2745\n",
            "time:2024-07-20, 05:08:11, iters:13600, last_400_iters_average_train_Loss:1.2602\n",
            "time:2024-07-20, 05:09:38, iters:14000, last_400_iters_average_train_Loss:1.2486\n",
            "time:2024-07-20, 05:11:05, iters:14400, last_400_iters_average_train_Loss:1.2761\n",
            "time:2024-07-20, 05:12:31, iters:14800, last_400_iters_average_train_Loss:1.2749\n",
            "time:2024-07-20, 05:13:55, iters:15200, last_400_iters_average_train_Loss:1.2963\n",
            "time:2024-07-20, 05:15:23, iters:15600, last_400_iters_average_train_Loss:1.2690\n",
            "time:2024-07-20, 05:16:45, iters:16000, last_400_iters_average_train_Loss:1.2632\n",
            "time:2024-07-20, 05:18:15, iters:16400, last_400_iters_average_train_Loss:1.2586\n",
            "time:2024-07-20, 05:19:42, iters:16800, last_400_iters_average_train_Loss:1.2663\n",
            "time:2024-07-20, 05:21:07, iters:17200, last_400_iters_average_train_Loss:1.2569\n",
            "time:2024-07-20, 05:22:37, iters:17600, last_400_iters_average_train_Loss:1.2724\n",
            "time:2024-07-20, 05:24:03, iters:18000, last_400_iters_average_train_Loss:1.2741\n",
            "time:2024-07-20, 05:25:36, iters:18400, last_400_iters_average_train_Loss:1.2746\n",
            "time:2024-07-20, 05:27:03, iters:18800, last_400_iters_average_train_Loss:1.2740\n",
            "time:2024-07-20, 05:28:31, iters:19200, last_400_iters_average_train_Loss:1.2660\n",
            "time:2024-07-20, 05:29:56, iters:19600, last_400_iters_average_train_Loss:1.2675\n",
            "time:2024-07-20, 05:31:22, iters:20000, last_400_iters_average_train_Loss:1.2651\n",
            "time:2024-07-20, 05:32:49, iters:20400, last_400_iters_average_train_Loss:1.2461\n",
            "time:2024-07-20, 05:34:14, iters:20800, last_400_iters_average_train_Loss:1.2652\n",
            "time:2024-07-20, 05:35:38, iters:21200, last_400_iters_average_train_Loss:1.2714\n",
            "time:2024-07-20, 05:37:06, iters:21600, last_400_iters_average_train_Loss:1.2595\n",
            "time:2024-07-20, 05:38:29, iters:22000, last_400_iters_average_train_Loss:1.2746\n",
            "time:2024-07-20, 05:39:50, iters:22400, last_400_iters_average_train_Loss:1.2603\n",
            "time:2024-07-20, 05:41:14, iters:22800, last_400_iters_average_train_Loss:1.2710\n",
            "time:2024-07-20, 05:42:43, iters:23200, last_400_iters_average_train_Loss:1.2595\n",
            "time:2024-07-20, 05:44:06, iters:23600, last_400_iters_average_train_Loss:1.2481\n",
            "time:2024-07-20, 05:45:32, iters:24000, last_400_iters_average_train_Loss:1.2899\n",
            "time:2024-07-20, 05:47:00, iters:24400, last_400_iters_average_train_Loss:1.2606\n",
            "time:2024-07-20, 05:48:29, iters:24800, last_400_iters_average_train_Loss:1.2667\n",
            "time:2024-07-20, 05:49:11, iters:25000, last_400_iters_average_train_Loss:1.2760\n",
            "Totally Completed!\n",
            "共计忽略14个批次数据\n"
          ]
        }
      ],
      "source": [
        "model.train()\n",
        "train_loss_list = []\n",
        "model.zero_grad() ##clear gradients at the start of training\n",
        "ignore_iters_count = 0\n",
        "for iters in range(len(chosen_input_ids_list)//batch_size):\n",
        "    ## 获取批次数据\n",
        "    chosen_batch_inputids = chosen_input_ids_list[iters*batch_size:(iters+1)*batch_size]\n",
        "\n",
        "    ## 对该批次数据进行padding,以并行计算，首先计算该批次的最大token长度\n",
        "    chosen_max_dim = max([len(i) for i in chosen_batch_inputids])\n",
        "\n",
        "    ### 训练数据padding填充\n",
        "    chosen_batch_inputids_padding_list = []\n",
        "    for i in range(batch_size):\n",
        "        chosen_batch_inputids_padding_list.append(torch.nn.functional.pad(torch.tensor(chosen_batch_inputids[i]), (0, chosen_max_dim - len(chosen_batch_inputids[i])), mode='constant', value=model.generation_config.eos_token_id[-1]).tolist()) #右补\n",
        "    chosen_batch_inputids_tensor = torch.tensor(chosen_batch_inputids_padding_list)\n",
        "\n",
        "    ## 构建训练数据：x->y ,下一个单词预测\n",
        "    chosen_x = chosen_batch_inputids_tensor[:, :-1].to(device)\n",
        "    chosen_y = chosen_batch_inputids_tensor[:, 1:].to(device)\n",
        "\n",
        "    ## 构建掩码判别矩阵（paddding mask & answer_mask, padding mask用于执行对padding的token不计算损失，answer_mask用于执行仅针对回答部分才计算损失），总之，就是确认哪些tokens的logit需要\"忽视\"掉\n",
        "    ### 【padding mask】\n",
        "    chosen_padding_mask = torch.where(chosen_y==model.generation_config.eos_token_id[-1], 0, 1)\n",
        "    ### 【answer_mask】\n",
        "    chosen_assistant_answer_mask = return_answer_mask(chosen_x)\n",
        "    ### 【paddingmask & answermask】方便使用掩码判别矩阵对logit和y进行过滤->:我们只关注【回答】部分的损失，不关注问题部分的损失\n",
        "    chosen_assistant_answer_mask = (chosen_assistant_answer_mask&chosen_padding_mask)\n",
        "\n",
        "    if chosen_assistant_answer_mask.sum(dim=-1).min().item()==0:##如果该批次里有的问答数据在数据截取时，回答部分存在没有数据的情况（问题太长了，导致还未采集到回答部分的token就被硬截断了），那么该批次数据不再训练\n",
        "      #print(f'不处理第{iters+1}批次数据')\n",
        "      ignore_iters_count+=1\n",
        "      continue  #跳出当前循环\n",
        "\n",
        "    ## 执行训练数据的模型前向推理，计算logits\n",
        "    chosen_logits = model(chosen_x).logits\n",
        "    torch.cuda.empty_cache() #清除非必要的显存占用，但会导致速度变慢\n",
        "    torch.cuda.ipc_collect()\n",
        "\n",
        "    ## Compute Chosen_Answer_Loss，计算训练数据的回答部分的损失, batch_loss的shape_size:[batch_size]\n",
        "    batch_loss = torch.mul((torch.gather(torch.log(torch.softmax(chosen_logits, dim=-1)), dim=-1, index=chosen_y.unsqueeze(2))*(-1)).squeeze(2), chosen_assistant_answer_mask).sum(dim=-1) / chosen_assistant_answer_mask.sum(dim=-1)\n",
        "\n",
        "    ## Calculate the Final Loss, 只是新增了梯度积累的操作\n",
        "    loss = torch.nanmean(batch_loss)/(gradient_accumulation_steps)\n",
        "\n",
        "    loss.backward() ##反向传播计算梯度\n",
        "\n",
        "    # Compute the learning rate for the current step\n",
        "    lr = cosine_decay(iters, warmup_steps, total_steps, max_lr, min_lr)\n",
        "\n",
        "    # Update the learning rate for the AdamW optimizer\n",
        "    for param_group in optimizer.param_groups:\n",
        "        param_group['lr'] = lr\n",
        "\n",
        "    if (iters+1)%gradient_accumulation_steps==0 or (iters+1)==(len(chosen_input_ids_list)//batch_size):\n",
        "        optimizer.step() #update weights after gradients accumulation\n",
        "        ##at last, clear gradients\n",
        "        optimizer.zero_grad() #clear gradients after updating, in this case equal to model.zero_grad()\n",
        "\n",
        "    train_loss_list.append(loss.item()*gradient_accumulation_steps)\n",
        "\n",
        "    if (iters+1)%log_iter==0 or (iters+1)==(len(chosen_input_ids_list)//batch_size):\n",
        "      print(f'time:{time.strftime(\"%Y-%m-%d, %H:%M:%S\")}, iters:{iters+1}, last_{log_iter}_iters_average_train_Loss:{np.nanmean(train_loss_list[-log_iter:]):.4f}') ##避免空值影响\n",
        "      log_call(iters, np.nanmean(train_loss_list[-log_iter:]))\n",
        "\n",
        "print(\"Totally Completed!\")\n",
        "print(f'共计忽略{ignore_iters_count}个批次数据')"
      ]
    },
    {
      "cell_type": "markdown",
      "metadata": {
        "id": "0GqNldCuEZOZ"
      },
      "source": [
        "## **1-9、保存模型**"
      ]
    },
    {
      "cell_type": "code",
      "execution_count": null,
      "metadata": {
        "id": "LjIPoHgrEYcf"
      },
      "outputs": [],
      "source": [
        "torch.save(model.state_dict(),f\"./{model_name}_SFT.pth\")"
      ]
    },
    {
      "cell_type": "markdown",
      "metadata": {
        "id": "OsaUdQx1Eu0o"
      },
      "source": [
        "# **二、DPO 偏好优化训练**\n",
        "- 重启会话"
      ]
    },
    {
      "cell_type": "code",
      "execution_count": null,
      "metadata": {
        "id": "4c5thGlzZ0po"
      },
      "outputs": [],
      "source": [
        "#torch.cuda.empty_cache()\n",
        "#torch.cuda.ipc_collect()"
      ]
    },
    {
      "cell_type": "code",
      "execution_count": null,
      "metadata": {
        "colab": {
          "base_uri": "https://localhost:8080/"
        },
        "id": "bEfo5qUGad-o",
        "outputId": "f19a736a-a6b9-4aa3-dabb-ab0233ac471a"
      },
      "outputs": [
        {
          "name": "stdout",
          "output_type": "stream",
          "text": [
            "Requirement already satisfied: accelerate in /usr/local/lib/python3.10/dist-packages (0.32.1)\n",
            "Requirement already satisfied: datasets in /usr/local/lib/python3.10/dist-packages (2.20.0)\n",
            "Requirement already satisfied: numpy<2.0.0,>=1.17 in /usr/local/lib/python3.10/dist-packages (from accelerate) (1.25.2)\n",
            "Requirement already satisfied: packaging>=20.0 in /usr/local/lib/python3.10/dist-packages (from accelerate) (24.1)\n",
            "Requirement already satisfied: psutil in /usr/local/lib/python3.10/dist-packages (from accelerate) (5.9.5)\n",
            "Requirement already satisfied: pyyaml in /usr/local/lib/python3.10/dist-packages (from accelerate) (6.0.1)\n",
            "Requirement already satisfied: torch>=1.10.0 in /usr/local/lib/python3.10/dist-packages (from accelerate) (2.3.1+cu121)\n",
            "Requirement already satisfied: huggingface-hub in /usr/local/lib/python3.10/dist-packages (from accelerate) (0.23.5)\n",
            "Requirement already satisfied: safetensors>=0.3.1 in /usr/local/lib/python3.10/dist-packages (from accelerate) (0.4.3)\n",
            "Requirement already satisfied: filelock in /usr/local/lib/python3.10/dist-packages (from datasets) (3.15.4)\n",
            "Requirement already satisfied: pyarrow>=15.0.0 in /usr/local/lib/python3.10/dist-packages (from datasets) (17.0.0)\n",
            "Requirement already satisfied: pyarrow-hotfix in /usr/local/lib/python3.10/dist-packages (from datasets) (0.6)\n",
            "Requirement already satisfied: dill<0.3.9,>=0.3.0 in /usr/local/lib/python3.10/dist-packages (from datasets) (0.3.8)\n",
            "Requirement already satisfied: pandas in /usr/local/lib/python3.10/dist-packages (from datasets) (2.0.3)\n",
            "Requirement already satisfied: requests>=2.32.2 in /usr/local/lib/python3.10/dist-packages (from datasets) (2.32.3)\n",
            "Requirement already satisfied: tqdm>=4.66.3 in /usr/local/lib/python3.10/dist-packages (from datasets) (4.66.4)\n",
            "Requirement already satisfied: xxhash in /usr/local/lib/python3.10/dist-packages (from datasets) (3.4.1)\n",
            "Requirement already satisfied: multiprocess in /usr/local/lib/python3.10/dist-packages (from datasets) (0.70.16)\n",
            "Requirement already satisfied: fsspec[http]<=2024.5.0,>=2023.1.0 in /usr/local/lib/python3.10/dist-packages (from datasets) (2023.6.0)\n",
            "Requirement already satisfied: aiohttp in /usr/local/lib/python3.10/dist-packages (from datasets) (3.9.5)\n",
            "Requirement already satisfied: aiosignal>=1.1.2 in /usr/local/lib/python3.10/dist-packages (from aiohttp->datasets) (1.3.1)\n",
            "Requirement already satisfied: attrs>=17.3.0 in /usr/local/lib/python3.10/dist-packages (from aiohttp->datasets) (23.2.0)\n",
            "Requirement already satisfied: frozenlist>=1.1.1 in /usr/local/lib/python3.10/dist-packages (from aiohttp->datasets) (1.4.1)\n",
            "Requirement already satisfied: multidict<7.0,>=4.5 in /usr/local/lib/python3.10/dist-packages (from aiohttp->datasets) (6.0.5)\n",
            "Requirement already satisfied: yarl<2.0,>=1.0 in /usr/local/lib/python3.10/dist-packages (from aiohttp->datasets) (1.9.4)\n",
            "Requirement already satisfied: async-timeout<5.0,>=4.0 in /usr/local/lib/python3.10/dist-packages (from aiohttp->datasets) (4.0.3)\n",
            "Requirement already satisfied: typing-extensions>=3.7.4.3 in /usr/local/lib/python3.10/dist-packages (from huggingface-hub->accelerate) (4.12.2)\n",
            "Requirement already satisfied: charset-normalizer<4,>=2 in /usr/local/lib/python3.10/dist-packages (from requests>=2.32.2->datasets) (3.3.2)\n",
            "Requirement already satisfied: idna<4,>=2.5 in /usr/local/lib/python3.10/dist-packages (from requests>=2.32.2->datasets) (3.7)\n",
            "Requirement already satisfied: urllib3<3,>=1.21.1 in /usr/local/lib/python3.10/dist-packages (from requests>=2.32.2->datasets) (2.0.7)\n",
            "Requirement already satisfied: certifi>=2017.4.17 in /usr/local/lib/python3.10/dist-packages (from requests>=2.32.2->datasets) (2024.7.4)\n",
            "Requirement already satisfied: sympy in /usr/local/lib/python3.10/dist-packages (from torch>=1.10.0->accelerate) (1.13.0)\n",
            "Requirement already satisfied: networkx in /usr/local/lib/python3.10/dist-packages (from torch>=1.10.0->accelerate) (3.3)\n",
            "Requirement already satisfied: jinja2 in /usr/local/lib/python3.10/dist-packages (from torch>=1.10.0->accelerate) (3.1.4)\n",
            "Requirement already satisfied: nvidia-cuda-nvrtc-cu12==12.1.105 in /usr/local/lib/python3.10/dist-packages (from torch>=1.10.0->accelerate) (12.1.105)\n",
            "Requirement already satisfied: nvidia-cuda-runtime-cu12==12.1.105 in /usr/local/lib/python3.10/dist-packages (from torch>=1.10.0->accelerate) (12.1.105)\n",
            "Requirement already satisfied: nvidia-cuda-cupti-cu12==12.1.105 in /usr/local/lib/python3.10/dist-packages (from torch>=1.10.0->accelerate) (12.1.105)\n",
            "Requirement already satisfied: nvidia-cudnn-cu12==8.9.2.26 in /usr/local/lib/python3.10/dist-packages (from torch>=1.10.0->accelerate) (8.9.2.26)\n",
            "Requirement already satisfied: nvidia-cublas-cu12==12.1.3.1 in /usr/local/lib/python3.10/dist-packages (from torch>=1.10.0->accelerate) (12.1.3.1)\n",
            "Requirement already satisfied: nvidia-cufft-cu12==11.0.2.54 in /usr/local/lib/python3.10/dist-packages (from torch>=1.10.0->accelerate) (11.0.2.54)\n",
            "Requirement already satisfied: nvidia-curand-cu12==10.3.2.106 in /usr/local/lib/python3.10/dist-packages (from torch>=1.10.0->accelerate) (10.3.2.106)\n",
            "Requirement already satisfied: nvidia-cusolver-cu12==11.4.5.107 in /usr/local/lib/python3.10/dist-packages (from torch>=1.10.0->accelerate) (11.4.5.107)\n",
            "Requirement already satisfied: nvidia-cusparse-cu12==12.1.0.106 in /usr/local/lib/python3.10/dist-packages (from torch>=1.10.0->accelerate) (12.1.0.106)\n",
            "Requirement already satisfied: nvidia-nccl-cu12==2.20.5 in /usr/local/lib/python3.10/dist-packages (from torch>=1.10.0->accelerate) (2.20.5)\n",
            "Requirement already satisfied: nvidia-nvtx-cu12==12.1.105 in /usr/local/lib/python3.10/dist-packages (from torch>=1.10.0->accelerate) (12.1.105)\n",
            "Requirement already satisfied: triton==2.3.1 in /usr/local/lib/python3.10/dist-packages (from torch>=1.10.0->accelerate) (2.3.1)\n",
            "Requirement already satisfied: nvidia-nvjitlink-cu12 in /usr/local/lib/python3.10/dist-packages (from nvidia-cusolver-cu12==11.4.5.107->torch>=1.10.0->accelerate) (12.5.82)\n",
            "Requirement already satisfied: python-dateutil>=2.8.2 in /usr/local/lib/python3.10/dist-packages (from pandas->datasets) (2.8.2)\n",
            "Requirement already satisfied: pytz>=2020.1 in /usr/local/lib/python3.10/dist-packages (from pandas->datasets) (2023.4)\n",
            "Requirement already satisfied: tzdata>=2022.1 in /usr/local/lib/python3.10/dist-packages (from pandas->datasets) (2024.1)\n",
            "Requirement already satisfied: six>=1.5 in /usr/local/lib/python3.10/dist-packages (from python-dateutil>=2.8.2->pandas->datasets) (1.16.0)\n",
            "Requirement already satisfied: MarkupSafe>=2.0 in /usr/local/lib/python3.10/dist-packages (from jinja2->torch>=1.10.0->accelerate) (2.1.5)\n",
            "Requirement already satisfied: mpmath<1.4,>=1.1.0 in /usr/local/lib/python3.10/dist-packages (from sympy->torch>=1.10.0->accelerate) (1.3.0)\n"
          ]
        }
      ],
      "source": [
        "!pip install accelerate datasets"
      ]
    },
    {
      "cell_type": "markdown",
      "metadata": {
        "id": "tqwGSMZeG3nw"
      },
      "source": [
        "## 重新加载基座模型"
      ]
    },
    {
      "cell_type": "code",
      "execution_count": null,
      "metadata": {
        "colab": {
          "base_uri": "https://localhost:8080/"
        },
        "id": "sSzjzJFeGLnp",
        "outputId": "6882ed2f-0279-417e-9200-48cd31115df7"
      },
      "outputs": [
        {
          "name": "stderr",
          "output_type": "stream",
          "text": [
            "Special tokens have been added in the vocabulary, make sure the associated word embeddings are fine-tuned or trained.\n"
          ]
        }
      ],
      "source": [
        "##加载qwen2-0.5B基座模型\n",
        "\n",
        "from transformers import AutoModelForCausalLM, AutoTokenizer\n",
        "import torch\n",
        "import numpy as np\n",
        "device = \"cuda\" # the device to load the model onto\n",
        "\n",
        "model_name = \"Qwen2-0.5B\"\n",
        "model_path = f'Qwen/{model_name}'\n",
        "\n",
        "# 获取可用GPU设备的数量和内存信息\n",
        "gpu_memory = {i: torch.cuda.get_device_properties(i).total_memory for i in range(torch.cuda.device_count())}\n",
        "\n",
        "try:\n",
        "    #要训练的模型\n",
        "    model = AutoModelForCausalLM.from_pretrained(\n",
        "        model_path,\n",
        "        torch_dtype=\"auto\",\n",
        "        device_map=\"balanced\",\n",
        "        max_memory={i: f\"{gpu_memory[i] // (1024 ** 3)}GB\" for i in range(len(gpu_memory))}\n",
        "    )\n",
        "    #参考模型\n",
        "    model_ref = AutoModelForCausalLM.from_pretrained(\n",
        "        model_path,\n",
        "        torch_dtype=\"auto\",\n",
        "        device_map=\"balanced\",\n",
        "        max_memory={i: f\"{gpu_memory[i] // (1024 ** 3)}GB\" for i in range(len(gpu_memory))}\n",
        "    )\n",
        "except Exception as e:\n",
        "    print(f\"Failed to load model from {model_path}: {e}\")\n",
        "    raise\n",
        "\n",
        "\n",
        "tokenizer = AutoTokenizer.from_pretrained(model_path)\n"
      ]
    },
    {
      "cell_type": "markdown",
      "metadata": {
        "id": "3cnGbg6YG9tH"
      },
      "source": [
        "## 加载上一步SFT训练后的模型权重"
      ]
    },
    {
      "cell_type": "code",
      "execution_count": null,
      "metadata": {
        "id": "E_xGs-ynGsn_"
      },
      "outputs": [],
      "source": [
        "import os\n",
        "os.getcwd()\n",
        "sft_model_saved_state_dict = torch.load(f'./{model_name}_SFT.pth', map_location='cuda') ##加载SFT训练后的模型权重\n",
        "model.load_state_dict(sft_model_saved_state_dict, strict=False)\n",
        "model_ref.load_state_dict(sft_model_saved_state_dict, strict=False)\n",
        "# 删除对张量的引用\n",
        "del sft_model_saved_state_dict\n",
        "# 释放显存\n",
        "torch.cuda.empty_cache()\n",
        "# 显式回收 CUDA IPC 内存\n",
        "torch.cuda.ipc_collect()"
      ]
    },
    {
      "cell_type": "code",
      "execution_count": null,
      "metadata": {
        "colab": {
          "base_uri": "https://localhost:8080/"
        },
        "id": "M8MpLlj-bBur",
        "outputId": "d22160f1-d498-48e8-eee7-b4d255b24e62"
      },
      "outputs": [
        {
          "data": {
            "text/plain": [
              "GenerationConfig {\n",
              "  \"bos_token_id\": 151643,\n",
              "  \"do_sample\": true,\n",
              "  \"eos_token_id\": [\n",
              "    151645,\n",
              "    151643\n",
              "  ],\n",
              "  \"max_new_tokens\": 2048,\n",
              "  \"pad_token_id\": 151643,\n",
              "  \"repetition_penalty\": 1.05,\n",
              "  \"temperature\": 0.7,\n",
              "  \"top_k\": 20,\n",
              "  \"top_p\": 0.8\n",
              "}"
            ]
          },
          "execution_count": 5,
          "metadata": {},
          "output_type": "execute_result"
        }
      ],
      "source": [
        "model.generation_config\n",
        "\n",
        "model.generation_config.do_sample = True\n",
        "model.generation_config.eos_token_id = [151645, 151643]\n",
        "model.generation_config.pad_token_id = 151643\n",
        "model.generation_config.temperature = 0.7\n",
        "model.generation_config.top_p = 0.8\n",
        "model.generation_config.top_k = 20\n",
        "model.generation_config.transformers_version = \"4.37.0\"\n",
        "model.generation_config.repetition_penalty = 1.05\n",
        "\n",
        "model.generation_config"
      ]
    },
    {
      "cell_type": "markdown",
      "metadata": {
        "id": "OX8wV72rFfx9"
      },
      "source": [
        "## **2-1、定义模型训练超参**\n"
      ]
    },
    {
      "cell_type": "code",
      "execution_count": null,
      "metadata": {
        "id": "8BbNoC7jEpm-"
      },
      "outputs": [],
      "source": [
        "from dataclasses import dataclass\n",
        "@dataclass\n",
        "class modelConfig:\n",
        "    max_length:int = 1700 #根据自身具备的算力条件进行自适应更改\n",
        "    batch_size:int = 2\n",
        "    gradient_accumulation_steps:int = 8\n",
        "    beta:float = 0.5\n",
        "    log_iter:int = 200\n",
        "    max_lr:float = 1e-6\n",
        "    min_lr:float = 1e-7\n",
        "    warmup_steps:int = 300"
      ]
    },
    {
      "cell_type": "markdown",
      "metadata": {
        "id": "LRvdbtirFu5F"
      },
      "source": [
        "## **2-2、导入DPO偏好优化所需的训练数据**"
      ]
    },
    {
      "cell_type": "code",
      "execution_count": null,
      "metadata": {
        "id": "6gPNfVXOEpqS"
      },
      "outputs": [],
      "source": [
        "import datasets\n",
        "binarized_data = datasets.load_dataset('HuggingFaceH4/ultrafeedback_binarized')"
      ]
    },
    {
      "cell_type": "markdown",
      "metadata": {
        "id": "DRDGv8c6HWZo"
      },
      "source": [
        "## **2-3、对偏好数据转化成模型接受的形式：str -> tokenid**\n"
      ]
    },
    {
      "cell_type": "code",
      "execution_count": null,
      "metadata": {
        "colab": {
          "base_uri": "https://localhost:8080/"
        },
        "id": "15KP02s3EpxJ",
        "outputId": "b3e43761-bd42-45f7-d6cd-cdb7afd291aa"
      },
      "outputs": [
        {
          "name": "stdout",
          "output_type": "stream",
          "text": [
            "偏好数据已处理10000条数据\n",
            "偏好数据已处理20000条数据\n",
            "偏好数据已处理30000条数据\n",
            "----------------------------------------------------------------------\n",
            "非偏好数据已处理10000条数据\n",
            "非偏好数据已处理20000条数据\n",
            "非偏好数据已处理30000条数据\n"
          ]
        }
      ],
      "source": [
        "def tokenize_and_format(data): # data: List[Dict[str, str]]\n",
        "        input_ids = tokenizer.apply_chat_template(\n",
        "    data, # Union[List[Dict[str, str]]\n",
        "    tokenize = True,\n",
        "    add_generation_prompt = False,\n",
        "    #padding = True,\n",
        "    truncation = True,\n",
        "    max_length = modelConfig.max_length,\n",
        ")\n",
        "\n",
        "        return input_ids #tag_ids\n",
        "\n",
        "## 生成偏好数据的tokenid\n",
        "chosen_input_ids_list = []\n",
        "i = 0\n",
        "while True:\n",
        "    data = binarized_data['train_sft'][i]['chosen']\n",
        "    data.insert(0, {\"content\": \"You are a helpful assistant\", \"role\": \"system\"})\n",
        "    input_ids = tokenize_and_format(data)\n",
        "    chosen_input_ids_list.append(input_ids)\n",
        "    i += 1\n",
        "    if i%10000 == 0 or i== len(binarized_data['train_sft']):\n",
        "        print(f\"偏好数据已处理{i}条数据\")\n",
        "    if i == 30000:#len(binarized_data['train_sft']):\n",
        "        break\n",
        "print('-'*70)\n",
        "#############################################################################\n",
        "## 生成不偏好数据的tokenid\n",
        "rejected_input_ids_list = []\n",
        "i = 0\n",
        "while True:\n",
        "    data = binarized_data['train_sft'][i]['rejected']\n",
        "    data.insert(0, {\"content\": \"You are a helpful assistant\", \"role\": \"system\"})\n",
        "    input_ids = tokenize_and_format(data)\n",
        "    rejected_input_ids_list.append(input_ids)\n",
        "    i += 1\n",
        "    if i%10000 == 0 or i== len(binarized_data['train_sft']):\n",
        "        print(f\"非偏好数据已处理{i}条数据\")\n",
        "    if i == 30000:#len(binarized_data['train_sft']):\n",
        "        break\n",
        "\n",
        "assert len(chosen_input_ids_list) == len(rejected_input_ids_list)  ##确保数据条数一致"
      ]
    },
    {
      "cell_type": "markdown",
      "metadata": {
        "id": "-Aj1h5oSIBzC"
      },
      "source": [
        "## **2-4、使用设置的训练超参数**"
      ]
    },
    {
      "cell_type": "code",
      "execution_count": null,
      "metadata": {
        "id": "aRAaU-hdEp27"
      },
      "outputs": [],
      "source": [
        "beta = modelConfig.beta\n",
        "batch_size = modelConfig.batch_size\n",
        "gradient_accumulation_steps = modelConfig.gradient_accumulation_steps\n",
        "log_iter = modelConfig.log_iter\n",
        "max_lr = modelConfig.max_lr\n",
        "min_lr = modelConfig.min_lr\n",
        "warmup_steps = modelConfig.warmup_steps\n",
        "total_steps = len(chosen_input_ids_list)//batch_size\n",
        "optimizer = torch.optim.AdamW(filter(lambda p:p.requires_grad, model.parameters()), lr=max_lr)\n",
        "trainable_parameters_num = sum(p.numel() for p in filter(lambda p:p.requires_grad, model.parameters()))  ##全参微调"
      ]
    },
    {
      "cell_type": "markdown",
      "metadata": {
        "id": "IFN4sxvHIVNE"
      },
      "source": [
        "## **2-5、配置logging日志记录模型训练过程**"
      ]
    },
    {
      "cell_type": "code",
      "execution_count": null,
      "metadata": {
        "id": "YbPtezcuEp9n"
      },
      "outputs": [],
      "source": [
        "##配置logging\n",
        "import time\n",
        "with open(f'./{model_name}-DPO_log.txt', \"a\") as my_file:\n",
        "  my_file.write(f'time:{time.strftime(\"%Y-%m-%d, %H:%M:%S\")}, batch_size:{batch_size}, trainable_parameters_num:{trainable_parameters_num}, warmup_steps:{warmup_steps}, max_lr:{max_lr}, min_lr:{min_lr}, beta:{beta}, gradient_accumulation_steps:{gradient_accumulation_steps}\\n')\n",
        "#定义一个日志记录函数\n",
        "def log_call(iters, iters_average_loss, iters_average_logprobability_for_Positive, iters_average_logprobability_for_Negetive, iters_average_reward_for_Positive, iters_average_reward_for_Negetive, iters_average_margin):\n",
        "  with open(f'./{model_name}-DPO_log.txt', \"a\") as my_file:\n",
        "    my_file.write(f'time:{time.strftime(\"%Y-%m-%d, %H:%M:%S\")}, iters:{iters+1}, iters_average_Loss:{iters_average_loss:.4f}, iters_average_logprobability_for_Positive:{iters_average_logprobability_for_Positive:.4f}, iters_average_logprobability_for_Negetive:{iters_average_logprobability_for_Negetive:.4f}, iters_average_reward_for_Positive:{iters_average_reward_for_Positive:.4f}, iters_average_reward_for_Negetive:{iters_average_reward_for_Negetive:.4f}, iters_average_margin:{iters_average_margin:.4f}\\n')"
      ]
    },
    {
      "cell_type": "markdown",
      "metadata": {
        "id": "0VVDrFaIIqen"
      },
      "source": [
        "## 复用SFT阶段设置的余弦衰减学习率曲线&掩码设置"
      ]
    },
    {
      "cell_type": "code",
      "execution_count": null,
      "metadata": {
        "id": "HaitMZDqaSMY"
      },
      "outputs": [],
      "source": [
        "def linear_warmup(current_step, warmup_steps, max_lr):\n",
        "    if current_step < warmup_steps:\n",
        "        return max_lr * current_step / warmup_steps\n",
        "    else:\n",
        "        return max_lr\n",
        "\n",
        "def cosine_decay(current_step, warmup_steps, total_steps, max_lr, min_lr):\n",
        "    if current_step < warmup_steps:\n",
        "        return linear_warmup(current_step, warmup_steps, max_lr)\n",
        "    else:\n",
        "        progress = (current_step - warmup_steps) / (total_steps - warmup_steps)\n",
        "        decay = 0.5 * (1 + np.cos(np.pi * progress))\n",
        "        return (max_lr - min_lr) * decay + min_lr\n",
        "\n",
        "\n",
        "\n",
        "# 设置问题部分的掩码函数，用于执行仅针对回答部分才计算损失\n",
        "def return_answer_mask(input_ids):\n",
        "  assistant_answer_mask = torch.zeros_like(input_ids) #0初始化\n",
        "  for i in range(input_ids.shape[0]):\n",
        "        ## user部分的结尾\\n: \\n是<|im_end|>的下一个元素，所以有+1 【这个地方需要根据不同模型的不同聊天模版自定义更改】，关于聊天模版可阅读这篇文章：https://huggingface.co/blog/chat-templates\n",
        "        i_user_end_list = [i+1 for i in torch.where(input_ids[i]==tokenizer.encode('<|im_end|>')[0])[0].tolist()[1::2]]\n",
        "        ## assistant部分的结尾\\n：\\n是<|im_end|>的下一个元素，所以有+1 【这个地方需要根据不同模型的不同聊天模版自定义更改】\n",
        "        i_assistant_end_list = [i+1 for i in torch.where(input_ids[i]==tokenizer.encode('<|im_end|>')[0])[0].tolist()[2::2]]\n",
        "\n",
        "        if len(i_user_end_list)==len(i_assistant_end_list):\n",
        "            for user_end, assistant_end in zip(i_user_end_list, i_assistant_end_list):\n",
        "                assistant_answer_mask[i][user_end+3:assistant_end-1]=1 #+3的操作，【这个地方需要根据不同模型的不同聊天模版自定义更改】\n",
        "        elif len(i_user_end_list)==len(i_assistant_end_list)+1==1:  ##单轮问答,且回答部分未结尾就被截断了\n",
        "            assistant_answer_mask[i][i_user_end_list[0]+3:]=1  ##会把右补的padding token也标记为1，所以后面还需要再结合padding mask以过滤padding\n",
        "        elif len(i_user_end_list)==len(i_assistant_end_list)+1:   ##兼顾多轮问答\n",
        "            assistant_answer_mask[i][i_user_end_list[-1]+3:]=1\n",
        "            for user_end, assistant_end in zip(i_user_end_list[:-1], i_assistant_end_list):\n",
        "                assistant_answer_mask[i][user_end+3:assistant_end-1]=1\n",
        "        else:\n",
        "            continue  ##跳出当前循环，继续下一次循环\n",
        "  return assistant_answer_mask"
      ]
    },
    {
      "cell_type": "markdown",
      "metadata": {
        "id": "Zk2Yb46jJDe3"
      },
      "source": [
        "## **2-6、开启DPO训练**\n",
        "- DPO论文链接:https://arxiv.org/pdf/2305.18290.pdf"
      ]
    },
    {
      "cell_type": "code",
      "execution_count": null,
      "metadata": {
        "colab": {
          "base_uri": "https://localhost:8080/",
          "height": 1000
        },
        "id": "h3AqbzXzJA-f",
        "outputId": "1177cf27-6688-4112-8e36-50e92ab36b21"
      },
      "outputs": [
        {
          "name": "stderr",
          "output_type": "stream",
          "text": [
            "We detected that you are passing `past_key_values` as a tuple and this is deprecated and will be removed in v4.43. Please use an appropriate `Cache` class (https://huggingface.co/docs/transformers/v4.41.3/en/internal/generation_utils#transformers.Cache)\n"
          ]
        },
        {
          "name": "stdout",
          "output_type": "stream",
          "text": [
            "time:2024-07-20, 06:41:15, iters:200, last_200_iters_average_train_Loss:0.6934, last_200_iters_average_logprobability_for_Positive:-1.5105, last_200_iters_average_logprobability_for_Negetive:-1.6122, last_200_iters_average_reward_for_Positive:-0.0001, last_200_iters_average_reward_for_Negetive:0.0004, last_200_iters_average_margin:-0.0006\n",
            "time:2024-07-20, 06:42:15, iters:400, last_200_iters_average_train_Loss:0.6933, last_200_iters_average_logprobability_for_Positive:-1.4565, last_200_iters_average_logprobability_for_Negetive:-1.5680, last_200_iters_average_reward_for_Positive:-0.0000, last_200_iters_average_reward_for_Negetive:0.0003, last_200_iters_average_margin:-0.0003\n",
            "time:2024-07-20, 06:43:19, iters:600, last_200_iters_average_train_Loss:0.6928, last_200_iters_average_logprobability_for_Positive:-1.5231, last_200_iters_average_logprobability_for_Negetive:-1.6983, last_200_iters_average_reward_for_Positive:0.0012, last_200_iters_average_reward_for_Negetive:0.0006, last_200_iters_average_margin:0.0006\n",
            "time:2024-07-20, 06:44:20, iters:800, last_200_iters_average_train_Loss:0.6924, last_200_iters_average_logprobability_for_Positive:-1.5130, last_200_iters_average_logprobability_for_Negetive:-1.6371, last_200_iters_average_reward_for_Positive:0.0023, last_200_iters_average_reward_for_Negetive:0.0007, last_200_iters_average_margin:0.0016\n",
            "time:2024-07-20, 06:45:22, iters:1000, last_200_iters_average_train_Loss:0.6919, last_200_iters_average_logprobability_for_Positive:-1.4810, last_200_iters_average_logprobability_for_Negetive:-1.5611, last_200_iters_average_reward_for_Positive:0.0032, last_200_iters_average_reward_for_Negetive:0.0006, last_200_iters_average_margin:0.0025\n",
            "time:2024-07-20, 06:46:25, iters:1200, last_200_iters_average_train_Loss:0.6921, last_200_iters_average_logprobability_for_Positive:-1.4824, last_200_iters_average_logprobability_for_Negetive:-1.5621, last_200_iters_average_reward_for_Positive:0.0030, last_200_iters_average_reward_for_Negetive:0.0009, last_200_iters_average_margin:0.0021\n",
            "time:2024-07-20, 06:47:28, iters:1400, last_200_iters_average_train_Loss:0.6908, last_200_iters_average_logprobability_for_Positive:-1.5409, last_200_iters_average_logprobability_for_Negetive:-1.6277, last_200_iters_average_reward_for_Positive:0.0076, last_200_iters_average_reward_for_Negetive:0.0026, last_200_iters_average_margin:0.0050\n",
            "time:2024-07-20, 06:48:29, iters:1600, last_200_iters_average_train_Loss:0.6918, last_200_iters_average_logprobability_for_Positive:-1.4496, last_200_iters_average_logprobability_for_Negetive:-1.5770, last_200_iters_average_reward_for_Positive:0.0066, last_200_iters_average_reward_for_Negetive:0.0038, last_200_iters_average_margin:0.0028\n",
            "time:2024-07-20, 06:49:30, iters:1800, last_200_iters_average_train_Loss:0.6926, last_200_iters_average_logprobability_for_Positive:-1.4654, last_200_iters_average_logprobability_for_Negetive:-1.7018, last_200_iters_average_reward_for_Positive:0.0063, last_200_iters_average_reward_for_Negetive:0.0049, last_200_iters_average_margin:0.0014\n",
            "time:2024-07-20, 06:50:32, iters:2000, last_200_iters_average_train_Loss:0.6936, last_200_iters_average_logprobability_for_Positive:-1.5174, last_200_iters_average_logprobability_for_Negetive:-1.6306, last_200_iters_average_reward_for_Positive:0.0043, last_200_iters_average_reward_for_Negetive:0.0048, last_200_iters_average_margin:-0.0005\n",
            "time:2024-07-20, 06:51:34, iters:2200, last_200_iters_average_train_Loss:0.6913, last_200_iters_average_logprobability_for_Positive:-1.5290, last_200_iters_average_logprobability_for_Negetive:-1.6782, last_200_iters_average_reward_for_Positive:0.0050, last_200_iters_average_reward_for_Negetive:0.0011, last_200_iters_average_margin:0.0039\n",
            "time:2024-07-20, 06:52:37, iters:2400, last_200_iters_average_train_Loss:0.6904, last_200_iters_average_logprobability_for_Positive:-1.5085, last_200_iters_average_logprobability_for_Negetive:-1.6566, last_200_iters_average_reward_for_Positive:0.0088, last_200_iters_average_reward_for_Negetive:0.0029, last_200_iters_average_margin:0.0059\n",
            "time:2024-07-20, 06:53:40, iters:2600, last_200_iters_average_train_Loss:0.6928, last_200_iters_average_logprobability_for_Positive:-1.5665, last_200_iters_average_logprobability_for_Negetive:-1.6058, last_200_iters_average_reward_for_Positive:0.0073, last_200_iters_average_reward_for_Negetive:0.0061, last_200_iters_average_margin:0.0012\n",
            "time:2024-07-20, 06:54:42, iters:2800, last_200_iters_average_train_Loss:0.6922, last_200_iters_average_logprobability_for_Positive:-1.5481, last_200_iters_average_logprobability_for_Negetive:-1.6487, last_200_iters_average_reward_for_Positive:0.0078, last_200_iters_average_reward_for_Negetive:0.0054, last_200_iters_average_margin:0.0024\n",
            "time:2024-07-20, 06:55:44, iters:3000, last_200_iters_average_train_Loss:0.6907, last_200_iters_average_logprobability_for_Positive:-1.5726, last_200_iters_average_logprobability_for_Negetive:-1.6194, last_200_iters_average_reward_for_Positive:0.0106, last_200_iters_average_reward_for_Negetive:0.0050, last_200_iters_average_margin:0.0056\n",
            "time:2024-07-20, 06:56:46, iters:3200, last_200_iters_average_train_Loss:0.6915, last_200_iters_average_logprobability_for_Positive:-1.5262, last_200_iters_average_logprobability_for_Negetive:-1.6333, last_200_iters_average_reward_for_Positive:0.0076, last_200_iters_average_reward_for_Negetive:0.0039, last_200_iters_average_margin:0.0037\n",
            "time:2024-07-20, 06:57:48, iters:3400, last_200_iters_average_train_Loss:0.6914, last_200_iters_average_logprobability_for_Positive:-1.5329, last_200_iters_average_logprobability_for_Negetive:-1.6218, last_200_iters_average_reward_for_Positive:0.0070, last_200_iters_average_reward_for_Negetive:0.0030, last_200_iters_average_margin:0.0039\n",
            "time:2024-07-20, 06:58:48, iters:3600, last_200_iters_average_train_Loss:0.6904, last_200_iters_average_logprobability_for_Positive:-1.4630, last_200_iters_average_logprobability_for_Negetive:-1.5360, last_200_iters_average_reward_for_Positive:0.0080, last_200_iters_average_reward_for_Negetive:0.0022, last_200_iters_average_margin:0.0059\n",
            "time:2024-07-20, 06:59:51, iters:3800, last_200_iters_average_train_Loss:0.6906, last_200_iters_average_logprobability_for_Positive:-1.5232, last_200_iters_average_logprobability_for_Negetive:-1.6644, last_200_iters_average_reward_for_Positive:0.0090, last_200_iters_average_reward_for_Negetive:0.0032, last_200_iters_average_margin:0.0059\n",
            "time:2024-07-20, 07:00:54, iters:4000, last_200_iters_average_train_Loss:0.6910, last_200_iters_average_logprobability_for_Positive:-1.4072, last_200_iters_average_logprobability_for_Negetive:-1.6158, last_200_iters_average_reward_for_Positive:0.0128, last_200_iters_average_reward_for_Negetive:0.0078, last_200_iters_average_margin:0.0050\n",
            "time:2024-07-20, 07:01:57, iters:4200, last_200_iters_average_train_Loss:0.6916, last_200_iters_average_logprobability_for_Positive:-1.5023, last_200_iters_average_logprobability_for_Negetive:-1.5803, last_200_iters_average_reward_for_Positive:0.0086, last_200_iters_average_reward_for_Negetive:0.0052, last_200_iters_average_margin:0.0035\n",
            "time:2024-07-20, 07:02:57, iters:4400, last_200_iters_average_train_Loss:0.6910, last_200_iters_average_logprobability_for_Positive:-1.4814, last_200_iters_average_logprobability_for_Negetive:-1.5775, last_200_iters_average_reward_for_Positive:0.0098, last_200_iters_average_reward_for_Negetive:0.0049, last_200_iters_average_margin:0.0049\n",
            "time:2024-07-20, 07:03:59, iters:4600, last_200_iters_average_train_Loss:0.6918, last_200_iters_average_logprobability_for_Positive:-1.5483, last_200_iters_average_logprobability_for_Negetive:-1.5727, last_200_iters_average_reward_for_Positive:0.0066, last_200_iters_average_reward_for_Negetive:0.0032, last_200_iters_average_margin:0.0034\n",
            "time:2024-07-20, 07:05:00, iters:4800, last_200_iters_average_train_Loss:0.6896, last_200_iters_average_logprobability_for_Positive:-1.5360, last_200_iters_average_logprobability_for_Negetive:-1.5947, last_200_iters_average_reward_for_Positive:0.0143, last_200_iters_average_reward_for_Negetive:0.0065, last_200_iters_average_margin:0.0078\n",
            "time:2024-07-20, 07:06:02, iters:5000, last_200_iters_average_train_Loss:0.6943, last_200_iters_average_logprobability_for_Positive:-1.5002, last_200_iters_average_logprobability_for_Negetive:-1.5667, last_200_iters_average_reward_for_Positive:0.0054, last_200_iters_average_reward_for_Negetive:0.0073, last_200_iters_average_margin:-0.0018\n",
            "time:2024-07-20, 07:07:04, iters:5200, last_200_iters_average_train_Loss:0.6911, last_200_iters_average_logprobability_for_Positive:-1.5187, last_200_iters_average_logprobability_for_Negetive:-1.5472, last_200_iters_average_reward_for_Positive:0.0077, last_200_iters_average_reward_for_Negetive:0.0030, last_200_iters_average_margin:0.0047\n",
            "time:2024-07-20, 07:08:06, iters:5400, last_200_iters_average_train_Loss:0.6933, last_200_iters_average_logprobability_for_Positive:-1.4531, last_200_iters_average_logprobability_for_Negetive:-1.6630, last_200_iters_average_reward_for_Positive:0.0049, last_200_iters_average_reward_for_Negetive:0.0048, last_200_iters_average_margin:0.0001\n",
            "time:2024-07-20, 07:09:08, iters:5600, last_200_iters_average_train_Loss:0.6906, last_200_iters_average_logprobability_for_Positive:-1.5425, last_200_iters_average_logprobability_for_Negetive:-1.6960, last_200_iters_average_reward_for_Positive:0.0096, last_200_iters_average_reward_for_Negetive:0.0039, last_200_iters_average_margin:0.0057\n",
            "time:2024-07-20, 07:10:11, iters:5800, last_200_iters_average_train_Loss:0.6890, last_200_iters_average_logprobability_for_Positive:-1.6142, last_200_iters_average_logprobability_for_Negetive:-1.6651, last_200_iters_average_reward_for_Positive:0.0108, last_200_iters_average_reward_for_Negetive:0.0017, last_200_iters_average_margin:0.0091\n",
            "time:2024-07-20, 07:11:14, iters:6000, last_200_iters_average_train_Loss:0.6909, last_200_iters_average_logprobability_for_Positive:-1.5315, last_200_iters_average_logprobability_for_Negetive:-1.6127, last_200_iters_average_reward_for_Positive:0.0111, last_200_iters_average_reward_for_Negetive:0.0058, last_200_iters_average_margin:0.0052\n",
            "time:2024-07-20, 07:12:16, iters:6200, last_200_iters_average_train_Loss:0.6926, last_200_iters_average_logprobability_for_Positive:-1.4515, last_200_iters_average_logprobability_for_Negetive:-1.6605, last_200_iters_average_reward_for_Positive:0.0069, last_200_iters_average_reward_for_Negetive:0.0054, last_200_iters_average_margin:0.0015\n",
            "time:2024-07-20, 07:13:18, iters:6400, last_200_iters_average_train_Loss:0.6922, last_200_iters_average_logprobability_for_Positive:-1.4278, last_200_iters_average_logprobability_for_Negetive:-1.5643, last_200_iters_average_reward_for_Positive:0.0058, last_200_iters_average_reward_for_Negetive:0.0033, last_200_iters_average_margin:0.0025\n",
            "time:2024-07-20, 07:14:20, iters:6600, last_200_iters_average_train_Loss:0.6918, last_200_iters_average_logprobability_for_Positive:-1.5287, last_200_iters_average_logprobability_for_Negetive:-1.6392, last_200_iters_average_reward_for_Positive:0.0072, last_200_iters_average_reward_for_Negetive:0.0040, last_200_iters_average_margin:0.0032\n",
            "time:2024-07-20, 07:15:22, iters:6800, last_200_iters_average_train_Loss:0.6912, last_200_iters_average_logprobability_for_Positive:-1.4898, last_200_iters_average_logprobability_for_Negetive:-1.6372, last_200_iters_average_reward_for_Positive:0.0090, last_200_iters_average_reward_for_Negetive:0.0047, last_200_iters_average_margin:0.0043\n",
            "time:2024-07-20, 07:16:23, iters:7000, last_200_iters_average_train_Loss:0.6921, last_200_iters_average_logprobability_for_Positive:-1.4893, last_200_iters_average_logprobability_for_Negetive:-1.6435, last_200_iters_average_reward_for_Positive:0.0059, last_200_iters_average_reward_for_Negetive:0.0034, last_200_iters_average_margin:0.0025\n",
            "time:2024-07-20, 07:17:25, iters:7200, last_200_iters_average_train_Loss:0.6903, last_200_iters_average_logprobability_for_Positive:-1.4894, last_200_iters_average_logprobability_for_Negetive:-1.6374, last_200_iters_average_reward_for_Positive:0.0102, last_200_iters_average_reward_for_Negetive:0.0038, last_200_iters_average_margin:0.0063\n",
            "time:2024-07-20, 07:18:29, iters:7400, last_200_iters_average_train_Loss:0.6917, last_200_iters_average_logprobability_for_Positive:-1.4700, last_200_iters_average_logprobability_for_Negetive:-1.6146, last_200_iters_average_reward_for_Positive:0.0086, last_200_iters_average_reward_for_Negetive:0.0050, last_200_iters_average_margin:0.0036\n",
            "time:2024-07-20, 07:19:30, iters:7600, last_200_iters_average_train_Loss:0.6913, last_200_iters_average_logprobability_for_Positive:-1.4910, last_200_iters_average_logprobability_for_Negetive:-1.6210, last_200_iters_average_reward_for_Positive:0.0105, last_200_iters_average_reward_for_Negetive:0.0063, last_200_iters_average_margin:0.0042\n",
            "time:2024-07-20, 07:20:33, iters:7800, last_200_iters_average_train_Loss:0.6884, last_200_iters_average_logprobability_for_Positive:-1.4173, last_200_iters_average_logprobability_for_Negetive:-1.6083, last_200_iters_average_reward_for_Positive:0.0098, last_200_iters_average_reward_for_Negetive:-0.0005, last_200_iters_average_margin:0.0103\n",
            "time:2024-07-20, 07:21:34, iters:8000, last_200_iters_average_train_Loss:0.6920, last_200_iters_average_logprobability_for_Positive:-1.5123, last_200_iters_average_logprobability_for_Negetive:-1.6009, last_200_iters_average_reward_for_Positive:0.0072, last_200_iters_average_reward_for_Negetive:0.0042, last_200_iters_average_margin:0.0030\n",
            "time:2024-07-20, 07:22:37, iters:8200, last_200_iters_average_train_Loss:0.6898, last_200_iters_average_logprobability_for_Positive:-1.4682, last_200_iters_average_logprobability_for_Negetive:-1.7689, last_200_iters_average_reward_for_Positive:0.0126, last_200_iters_average_reward_for_Negetive:0.0050, last_200_iters_average_margin:0.0075\n",
            "time:2024-07-20, 07:23:41, iters:8400, last_200_iters_average_train_Loss:0.6889, last_200_iters_average_logprobability_for_Positive:-1.5161, last_200_iters_average_logprobability_for_Negetive:-1.6281, last_200_iters_average_reward_for_Positive:0.0092, last_200_iters_average_reward_for_Negetive:-0.0000, last_200_iters_average_margin:0.0093\n",
            "time:2024-07-20, 07:24:43, iters:8600, last_200_iters_average_train_Loss:0.6910, last_200_iters_average_logprobability_for_Positive:-1.5165, last_200_iters_average_logprobability_for_Negetive:-1.6646, last_200_iters_average_reward_for_Positive:0.0083, last_200_iters_average_reward_for_Negetive:0.0035, last_200_iters_average_margin:0.0048\n",
            "time:2024-07-20, 07:25:44, iters:8800, last_200_iters_average_train_Loss:0.6906, last_200_iters_average_logprobability_for_Positive:-1.4735, last_200_iters_average_logprobability_for_Negetive:-1.5413, last_200_iters_average_reward_for_Positive:0.0078, last_200_iters_average_reward_for_Negetive:0.0020, last_200_iters_average_margin:0.0058\n",
            "time:2024-07-20, 07:26:45, iters:9000, last_200_iters_average_train_Loss:0.6911, last_200_iters_average_logprobability_for_Positive:-1.4814, last_200_iters_average_logprobability_for_Negetive:-1.6187, last_200_iters_average_reward_for_Positive:0.0088, last_200_iters_average_reward_for_Negetive:0.0042, last_200_iters_average_margin:0.0045\n",
            "time:2024-07-20, 07:27:46, iters:9200, last_200_iters_average_train_Loss:0.6900, last_200_iters_average_logprobability_for_Positive:-1.4759, last_200_iters_average_logprobability_for_Negetive:-1.6645, last_200_iters_average_reward_for_Positive:0.0114, last_200_iters_average_reward_for_Negetive:0.0044, last_200_iters_average_margin:0.0071\n",
            "time:2024-07-20, 07:28:49, iters:9400, last_200_iters_average_train_Loss:0.6893, last_200_iters_average_logprobability_for_Positive:-1.4413, last_200_iters_average_logprobability_for_Negetive:-1.5526, last_200_iters_average_reward_for_Positive:0.0119, last_200_iters_average_reward_for_Negetive:0.0035, last_200_iters_average_margin:0.0084\n",
            "time:2024-07-20, 07:29:51, iters:9600, last_200_iters_average_train_Loss:0.6904, last_200_iters_average_logprobability_for_Positive:-1.4945, last_200_iters_average_logprobability_for_Negetive:-1.5479, last_200_iters_average_reward_for_Positive:0.0087, last_200_iters_average_reward_for_Negetive:0.0028, last_200_iters_average_margin:0.0060\n",
            "time:2024-07-20, 07:30:53, iters:9800, last_200_iters_average_train_Loss:0.6900, last_200_iters_average_logprobability_for_Positive:-1.4773, last_200_iters_average_logprobability_for_Negetive:-1.6426, last_200_iters_average_reward_for_Positive:0.0083, last_200_iters_average_reward_for_Negetive:0.0014, last_200_iters_average_margin:0.0070\n",
            "time:2024-07-20, 07:31:52, iters:10000, last_200_iters_average_train_Loss:0.6906, last_200_iters_average_logprobability_for_Positive:-1.4804, last_200_iters_average_logprobability_for_Negetive:-1.6626, last_200_iters_average_reward_for_Positive:0.0102, last_200_iters_average_reward_for_Negetive:0.0044, last_200_iters_average_margin:0.0058\n",
            "time:2024-07-20, 07:32:55, iters:10200, last_200_iters_average_train_Loss:0.6922, last_200_iters_average_logprobability_for_Positive:-1.4704, last_200_iters_average_logprobability_for_Negetive:-1.5861, last_200_iters_average_reward_for_Positive:0.0050, last_200_iters_average_reward_for_Negetive:0.0025, last_200_iters_average_margin:0.0026\n",
            "time:2024-07-20, 07:34:00, iters:10400, last_200_iters_average_train_Loss:0.6900, last_200_iters_average_logprobability_for_Positive:-1.4828, last_200_iters_average_logprobability_for_Negetive:-1.5374, last_200_iters_average_reward_for_Positive:0.0067, last_200_iters_average_reward_for_Negetive:-0.0001, last_200_iters_average_margin:0.0067\n",
            "time:2024-07-20, 07:35:04, iters:10600, last_200_iters_average_train_Loss:0.6885, last_200_iters_average_logprobability_for_Positive:-1.4449, last_200_iters_average_logprobability_for_Negetive:-1.7211, last_200_iters_average_reward_for_Positive:0.0116, last_200_iters_average_reward_for_Negetive:0.0009, last_200_iters_average_margin:0.0108\n",
            "time:2024-07-20, 07:36:06, iters:10800, last_200_iters_average_train_Loss:0.6905, last_200_iters_average_logprobability_for_Positive:-1.5125, last_200_iters_average_logprobability_for_Negetive:-1.6828, last_200_iters_average_reward_for_Positive:0.0087, last_200_iters_average_reward_for_Negetive:0.0028, last_200_iters_average_margin:0.0059\n",
            "time:2024-07-20, 07:37:06, iters:11000, last_200_iters_average_train_Loss:0.6913, last_200_iters_average_logprobability_for_Positive:-1.4190, last_200_iters_average_logprobability_for_Negetive:-1.5301, last_200_iters_average_reward_for_Positive:0.0082, last_200_iters_average_reward_for_Negetive:0.0042, last_200_iters_average_margin:0.0040\n",
            "time:2024-07-20, 07:38:10, iters:11200, last_200_iters_average_train_Loss:0.6932, last_200_iters_average_logprobability_for_Positive:-1.4493, last_200_iters_average_logprobability_for_Negetive:-1.7854, last_200_iters_average_reward_for_Positive:0.0073, last_200_iters_average_reward_for_Negetive:0.0065, last_200_iters_average_margin:0.0007\n",
            "time:2024-07-20, 07:39:13, iters:11400, last_200_iters_average_train_Loss:0.6907, last_200_iters_average_logprobability_for_Positive:-1.4931, last_200_iters_average_logprobability_for_Negetive:-1.5830, last_200_iters_average_reward_for_Positive:0.0101, last_200_iters_average_reward_for_Negetive:0.0046, last_200_iters_average_margin:0.0055\n",
            "time:2024-07-20, 07:40:14, iters:11600, last_200_iters_average_train_Loss:0.6924, last_200_iters_average_logprobability_for_Positive:-1.4872, last_200_iters_average_logprobability_for_Negetive:-1.5562, last_200_iters_average_reward_for_Positive:0.0077, last_200_iters_average_reward_for_Negetive:0.0056, last_200_iters_average_margin:0.0022\n",
            "time:2024-07-20, 07:41:17, iters:11800, last_200_iters_average_train_Loss:0.6920, last_200_iters_average_logprobability_for_Positive:-1.4444, last_200_iters_average_logprobability_for_Negetive:-1.6004, last_200_iters_average_reward_for_Positive:0.0087, last_200_iters_average_reward_for_Negetive:0.0057, last_200_iters_average_margin:0.0030\n",
            "time:2024-07-20, 07:42:17, iters:12000, last_200_iters_average_train_Loss:0.6903, last_200_iters_average_logprobability_for_Positive:-1.5454, last_200_iters_average_logprobability_for_Negetive:-1.6652, last_200_iters_average_reward_for_Positive:0.0087, last_200_iters_average_reward_for_Negetive:0.0023, last_200_iters_average_margin:0.0064\n",
            "time:2024-07-20, 07:43:17, iters:12200, last_200_iters_average_train_Loss:0.6899, last_200_iters_average_logprobability_for_Positive:-1.4522, last_200_iters_average_logprobability_for_Negetive:-1.5347, last_200_iters_average_reward_for_Positive:0.0113, last_200_iters_average_reward_for_Negetive:0.0042, last_200_iters_average_margin:0.0071\n",
            "time:2024-07-20, 07:44:19, iters:12400, last_200_iters_average_train_Loss:0.6905, last_200_iters_average_logprobability_for_Positive:-1.4540, last_200_iters_average_logprobability_for_Negetive:-1.6149, last_200_iters_average_reward_for_Positive:0.0097, last_200_iters_average_reward_for_Negetive:0.0038, last_200_iters_average_margin:0.0059\n",
            "time:2024-07-20, 07:45:20, iters:12600, last_200_iters_average_train_Loss:0.6924, last_200_iters_average_logprobability_for_Positive:-1.4648, last_200_iters_average_logprobability_for_Negetive:-1.6418, last_200_iters_average_reward_for_Positive:0.0058, last_200_iters_average_reward_for_Negetive:0.0036, last_200_iters_average_margin:0.0022\n",
            "time:2024-07-20, 07:46:22, iters:12800, last_200_iters_average_train_Loss:0.6915, last_200_iters_average_logprobability_for_Positive:-1.5565, last_200_iters_average_logprobability_for_Negetive:-1.5674, last_200_iters_average_reward_for_Positive:0.0143, last_200_iters_average_reward_for_Negetive:0.0098, last_200_iters_average_margin:0.0046\n",
            "time:2024-07-20, 07:47:26, iters:13000, last_200_iters_average_train_Loss:0.6901, last_200_iters_average_logprobability_for_Positive:-1.4828, last_200_iters_average_logprobability_for_Negetive:-1.7034, last_200_iters_average_reward_for_Positive:0.0096, last_200_iters_average_reward_for_Negetive:0.0024, last_200_iters_average_margin:0.0072\n",
            "time:2024-07-20, 07:48:29, iters:13200, last_200_iters_average_train_Loss:0.6890, last_200_iters_average_logprobability_for_Positive:-1.4532, last_200_iters_average_logprobability_for_Negetive:-1.6270, last_200_iters_average_reward_for_Positive:0.0101, last_200_iters_average_reward_for_Negetive:0.0008, last_200_iters_average_margin:0.0093\n",
            "time:2024-07-20, 07:49:31, iters:13400, last_200_iters_average_train_Loss:0.6908, last_200_iters_average_logprobability_for_Positive:-1.3520, last_200_iters_average_logprobability_for_Negetive:-1.5725, last_200_iters_average_reward_for_Positive:0.0099, last_200_iters_average_reward_for_Negetive:0.0049, last_200_iters_average_margin:0.0050\n",
            "time:2024-07-20, 07:50:32, iters:13600, last_200_iters_average_train_Loss:0.6920, last_200_iters_average_logprobability_for_Positive:-1.4428, last_200_iters_average_logprobability_for_Negetive:-1.5688, last_200_iters_average_reward_for_Positive:0.0075, last_200_iters_average_reward_for_Negetive:0.0047, last_200_iters_average_margin:0.0028\n",
            "time:2024-07-20, 07:51:33, iters:13800, last_200_iters_average_train_Loss:0.6899, last_200_iters_average_logprobability_for_Positive:-1.5193, last_200_iters_average_logprobability_for_Negetive:-1.6252, last_200_iters_average_reward_for_Positive:0.0122, last_200_iters_average_reward_for_Negetive:0.0049, last_200_iters_average_margin:0.0073\n",
            "time:2024-07-20, 07:52:38, iters:14000, last_200_iters_average_train_Loss:0.6906, last_200_iters_average_logprobability_for_Positive:-1.4935, last_200_iters_average_logprobability_for_Negetive:-1.5358, last_200_iters_average_reward_for_Positive:0.0092, last_200_iters_average_reward_for_Negetive:0.0032, last_200_iters_average_margin:0.0060\n",
            "time:2024-07-20, 07:53:40, iters:14200, last_200_iters_average_train_Loss:0.6887, last_200_iters_average_logprobability_for_Positive:-1.3986, last_200_iters_average_logprobability_for_Negetive:-1.5773, last_200_iters_average_reward_for_Positive:0.0107, last_200_iters_average_reward_for_Negetive:0.0007, last_200_iters_average_margin:0.0100\n",
            "time:2024-07-20, 07:54:42, iters:14400, last_200_iters_average_train_Loss:0.6883, last_200_iters_average_logprobability_for_Positive:-1.5865, last_200_iters_average_logprobability_for_Negetive:-1.6837, last_200_iters_average_reward_for_Positive:0.0108, last_200_iters_average_reward_for_Negetive:0.0002, last_200_iters_average_margin:0.0106\n",
            "time:2024-07-20, 07:55:44, iters:14600, last_200_iters_average_train_Loss:0.6906, last_200_iters_average_logprobability_for_Positive:-1.5751, last_200_iters_average_logprobability_for_Negetive:-1.7116, last_200_iters_average_reward_for_Positive:0.0079, last_200_iters_average_reward_for_Negetive:0.0022, last_200_iters_average_margin:0.0056\n",
            "time:2024-07-20, 07:56:44, iters:14800, last_200_iters_average_train_Loss:0.6890, last_200_iters_average_logprobability_for_Positive:-1.5320, last_200_iters_average_logprobability_for_Negetive:-1.5664, last_200_iters_average_reward_for_Positive:0.0110, last_200_iters_average_reward_for_Negetive:0.0018, last_200_iters_average_margin:0.0092\n"
          ]
        },
        {
          "ename": "OutOfMemoryError",
          "evalue": "CUDA out of memory. Tried to allocate 1.92 GiB. GPU ",
          "output_type": "error",
          "traceback": [
            "\u001b[0;31m---------------------------------------------------------------------------\u001b[0m",
            "\u001b[0;31mOutOfMemoryError\u001b[0m                          Traceback (most recent call last)",
            "\u001b[0;32m<ipython-input-12-286d0260eb65>\u001b[0m in \u001b[0;36m<cell line: 10>\u001b[0;34m()\u001b[0m\n\u001b[1;32m     69\u001b[0m     \u001b[0mpos_logprob\u001b[0m \u001b[0;34m=\u001b[0m \u001b[0mtorch\u001b[0m\u001b[0;34m.\u001b[0m\u001b[0mmul\u001b[0m\u001b[0;34m(\u001b[0m\u001b[0;34m(\u001b[0m\u001b[0mtorch\u001b[0m\u001b[0;34m.\u001b[0m\u001b[0mgather\u001b[0m\u001b[0;34m(\u001b[0m\u001b[0mtorch\u001b[0m\u001b[0;34m.\u001b[0m\u001b[0mlog\u001b[0m\u001b[0;34m(\u001b[0m\u001b[0mtorch\u001b[0m\u001b[0;34m.\u001b[0m\u001b[0msoftmax\u001b[0m\u001b[0;34m(\u001b[0m\u001b[0mchosen_logits\u001b[0m\u001b[0;34m,\u001b[0m \u001b[0mdim\u001b[0m\u001b[0;34m=\u001b[0m\u001b[0;34m-\u001b[0m\u001b[0;36m1\u001b[0m\u001b[0;34m)\u001b[0m\u001b[0;34m)\u001b[0m\u001b[0;34m,\u001b[0m \u001b[0mdim\u001b[0m\u001b[0;34m=\u001b[0m\u001b[0;34m-\u001b[0m\u001b[0;36m1\u001b[0m\u001b[0;34m,\u001b[0m \u001b[0mindex\u001b[0m\u001b[0;34m=\u001b[0m\u001b[0mchosen_y\u001b[0m\u001b[0;34m.\u001b[0m\u001b[0munsqueeze\u001b[0m\u001b[0;34m(\u001b[0m\u001b[0;36m2\u001b[0m\u001b[0;34m)\u001b[0m\u001b[0;34m)\u001b[0m\u001b[0;34m)\u001b[0m\u001b[0;34m.\u001b[0m\u001b[0msqueeze\u001b[0m\u001b[0;34m(\u001b[0m\u001b[0;36m2\u001b[0m\u001b[0;34m)\u001b[0m\u001b[0;34m,\u001b[0m \u001b[0mchosen_assistant_answer_mask\u001b[0m\u001b[0;34m)\u001b[0m\u001b[0;34m.\u001b[0m\u001b[0msum\u001b[0m\u001b[0;34m(\u001b[0m\u001b[0mdim\u001b[0m\u001b[0;34m=\u001b[0m\u001b[0;34m-\u001b[0m\u001b[0;36m1\u001b[0m\u001b[0;34m)\u001b[0m \u001b[0;34m/\u001b[0m \u001b[0mchosen_assistant_answer_mask\u001b[0m\u001b[0;34m.\u001b[0m\u001b[0msum\u001b[0m\u001b[0;34m(\u001b[0m\u001b[0mdim\u001b[0m\u001b[0;34m=\u001b[0m\u001b[0;34m-\u001b[0m\u001b[0;36m1\u001b[0m\u001b[0;34m)\u001b[0m\u001b[0;34m\u001b[0m\u001b[0;34m\u001b[0m\u001b[0m\n\u001b[1;32m     70\u001b[0m     \u001b[0mneg_logprob\u001b[0m \u001b[0;34m=\u001b[0m \u001b[0mtorch\u001b[0m\u001b[0;34m.\u001b[0m\u001b[0mmul\u001b[0m\u001b[0;34m(\u001b[0m\u001b[0;34m(\u001b[0m\u001b[0mtorch\u001b[0m\u001b[0;34m.\u001b[0m\u001b[0mgather\u001b[0m\u001b[0;34m(\u001b[0m\u001b[0mtorch\u001b[0m\u001b[0;34m.\u001b[0m\u001b[0mlog\u001b[0m\u001b[0;34m(\u001b[0m\u001b[0mtorch\u001b[0m\u001b[0;34m.\u001b[0m\u001b[0msoftmax\u001b[0m\u001b[0;34m(\u001b[0m\u001b[0mrejected_logits\u001b[0m\u001b[0;34m,\u001b[0m \u001b[0mdim\u001b[0m\u001b[0;34m=\u001b[0m\u001b[0;34m-\u001b[0m\u001b[0;36m1\u001b[0m\u001b[0;34m)\u001b[0m\u001b[0;34m)\u001b[0m\u001b[0;34m,\u001b[0m \u001b[0mdim\u001b[0m\u001b[0;34m=\u001b[0m\u001b[0;34m-\u001b[0m\u001b[0;36m1\u001b[0m\u001b[0;34m,\u001b[0m \u001b[0mindex\u001b[0m\u001b[0;34m=\u001b[0m\u001b[0mrejected_y\u001b[0m\u001b[0;34m.\u001b[0m\u001b[0munsqueeze\u001b[0m\u001b[0;34m(\u001b[0m\u001b[0;36m2\u001b[0m\u001b[0;34m)\u001b[0m\u001b[0;34m)\u001b[0m\u001b[0;34m)\u001b[0m\u001b[0;34m.\u001b[0m\u001b[0msqueeze\u001b[0m\u001b[0;34m(\u001b[0m\u001b[0;36m2\u001b[0m\u001b[0;34m)\u001b[0m\u001b[0;34m,\u001b[0m \u001b[0mrejected_assistant_answer_mask\u001b[0m\u001b[0;34m)\u001b[0m\u001b[0;34m.\u001b[0m\u001b[0msum\u001b[0m\u001b[0;34m(\u001b[0m\u001b[0mdim\u001b[0m\u001b[0;34m=\u001b[0m\u001b[0;34m-\u001b[0m\u001b[0;36m1\u001b[0m\u001b[0;34m)\u001b[0m \u001b[0;34m/\u001b[0m \u001b[0mrejected_assistant_answer_mask\u001b[0m\u001b[0;34m.\u001b[0m\u001b[0msum\u001b[0m\u001b[0;34m(\u001b[0m\u001b[0mdim\u001b[0m\u001b[0;34m=\u001b[0m\u001b[0;34m-\u001b[0m\u001b[0;36m1\u001b[0m\u001b[0;34m)\u001b[0m\u001b[0;34m\u001b[0m\u001b[0;34m\u001b[0m\u001b[0m\n\u001b[0;32m---> 71\u001b[0;31m     \u001b[0mref_pos_logprob\u001b[0m \u001b[0;34m=\u001b[0m \u001b[0mtorch\u001b[0m\u001b[0;34m.\u001b[0m\u001b[0mmul\u001b[0m\u001b[0;34m(\u001b[0m\u001b[0;34m(\u001b[0m\u001b[0mtorch\u001b[0m\u001b[0;34m.\u001b[0m\u001b[0mgather\u001b[0m\u001b[0;34m(\u001b[0m\u001b[0mtorch\u001b[0m\u001b[0;34m.\u001b[0m\u001b[0mlog\u001b[0m\u001b[0;34m(\u001b[0m\u001b[0mtorch\u001b[0m\u001b[0;34m.\u001b[0m\u001b[0msoftmax\u001b[0m\u001b[0;34m(\u001b[0m\u001b[0mref_chosen_logits\u001b[0m\u001b[0;34m,\u001b[0m \u001b[0mdim\u001b[0m\u001b[0;34m=\u001b[0m\u001b[0;34m-\u001b[0m\u001b[0;36m1\u001b[0m\u001b[0;34m)\u001b[0m\u001b[0;34m)\u001b[0m\u001b[0;34m,\u001b[0m \u001b[0mdim\u001b[0m\u001b[0;34m=\u001b[0m\u001b[0;34m-\u001b[0m\u001b[0;36m1\u001b[0m\u001b[0;34m,\u001b[0m \u001b[0mindex\u001b[0m\u001b[0;34m=\u001b[0m\u001b[0mchosen_y\u001b[0m\u001b[0;34m.\u001b[0m\u001b[0munsqueeze\u001b[0m\u001b[0;34m(\u001b[0m\u001b[0;36m2\u001b[0m\u001b[0;34m)\u001b[0m\u001b[0;34m)\u001b[0m\u001b[0;34m)\u001b[0m\u001b[0;34m.\u001b[0m\u001b[0msqueeze\u001b[0m\u001b[0;34m(\u001b[0m\u001b[0;36m2\u001b[0m\u001b[0;34m)\u001b[0m\u001b[0;34m,\u001b[0m \u001b[0mchosen_assistant_answer_mask\u001b[0m\u001b[0;34m)\u001b[0m\u001b[0;34m.\u001b[0m\u001b[0msum\u001b[0m\u001b[0;34m(\u001b[0m\u001b[0mdim\u001b[0m\u001b[0;34m=\u001b[0m\u001b[0;34m-\u001b[0m\u001b[0;36m1\u001b[0m\u001b[0;34m)\u001b[0m \u001b[0;34m/\u001b[0m \u001b[0mchosen_assistant_answer_mask\u001b[0m\u001b[0;34m.\u001b[0m\u001b[0msum\u001b[0m\u001b[0;34m(\u001b[0m\u001b[0mdim\u001b[0m\u001b[0;34m=\u001b[0m\u001b[0;34m-\u001b[0m\u001b[0;36m1\u001b[0m\u001b[0;34m)\u001b[0m\u001b[0;34m\u001b[0m\u001b[0;34m\u001b[0m\u001b[0m\n\u001b[0m\u001b[1;32m     72\u001b[0m     \u001b[0mref_neg_logprob\u001b[0m \u001b[0;34m=\u001b[0m \u001b[0mtorch\u001b[0m\u001b[0;34m.\u001b[0m\u001b[0mmul\u001b[0m\u001b[0;34m(\u001b[0m\u001b[0;34m(\u001b[0m\u001b[0mtorch\u001b[0m\u001b[0;34m.\u001b[0m\u001b[0mgather\u001b[0m\u001b[0;34m(\u001b[0m\u001b[0mtorch\u001b[0m\u001b[0;34m.\u001b[0m\u001b[0mlog\u001b[0m\u001b[0;34m(\u001b[0m\u001b[0mtorch\u001b[0m\u001b[0;34m.\u001b[0m\u001b[0msoftmax\u001b[0m\u001b[0;34m(\u001b[0m\u001b[0mref_rejected_logits\u001b[0m\u001b[0;34m,\u001b[0m \u001b[0mdim\u001b[0m\u001b[0;34m=\u001b[0m\u001b[0;34m-\u001b[0m\u001b[0;36m1\u001b[0m\u001b[0;34m)\u001b[0m\u001b[0;34m)\u001b[0m\u001b[0;34m,\u001b[0m \u001b[0mdim\u001b[0m\u001b[0;34m=\u001b[0m\u001b[0;34m-\u001b[0m\u001b[0;36m1\u001b[0m\u001b[0;34m,\u001b[0m \u001b[0mindex\u001b[0m\u001b[0;34m=\u001b[0m\u001b[0mrejected_y\u001b[0m\u001b[0;34m.\u001b[0m\u001b[0munsqueeze\u001b[0m\u001b[0;34m(\u001b[0m\u001b[0;36m2\u001b[0m\u001b[0;34m)\u001b[0m\u001b[0;34m)\u001b[0m\u001b[0;34m)\u001b[0m\u001b[0;34m.\u001b[0m\u001b[0msqueeze\u001b[0m\u001b[0;34m(\u001b[0m\u001b[0;36m2\u001b[0m\u001b[0;34m)\u001b[0m\u001b[0;34m,\u001b[0m \u001b[0mrejected_assistant_answer_mask\u001b[0m\u001b[0;34m)\u001b[0m\u001b[0;34m.\u001b[0m\u001b[0msum\u001b[0m\u001b[0;34m(\u001b[0m\u001b[0mdim\u001b[0m\u001b[0;34m=\u001b[0m\u001b[0;34m-\u001b[0m\u001b[0;36m1\u001b[0m\u001b[0;34m)\u001b[0m \u001b[0;34m/\u001b[0m \u001b[0mrejected_assistant_answer_mask\u001b[0m\u001b[0;34m.\u001b[0m\u001b[0msum\u001b[0m\u001b[0;34m(\u001b[0m\u001b[0mdim\u001b[0m\u001b[0;34m=\u001b[0m\u001b[0;34m-\u001b[0m\u001b[0;36m1\u001b[0m\u001b[0;34m)\u001b[0m\u001b[0;34m\u001b[0m\u001b[0;34m\u001b[0m\u001b[0m\n\u001b[1;32m     73\u001b[0m \u001b[0;34m\u001b[0m\u001b[0m\n",
            "\u001b[0;31mOutOfMemoryError\u001b[0m: CUDA out of memory. Tried to allocate 1.92 GiB. GPU "
          ]
        }
      ],
      "source": [
        "model.train()\n",
        "train_loss_list = []\n",
        "pos_prob_list = []\n",
        "neg_prob_list = []\n",
        "chosen_reward_list = []\n",
        "rejected_reward_list = []\n",
        "margin_list = []\n",
        "model.zero_grad() ##clear gradients at the start of training\n",
        "ignore_iters_count = 0\n",
        "for iters in range(len(chosen_input_ids_list)//batch_size):\n",
        "    ## 获取批次数据\n",
        "    chosen_batch_inputids = chosen_input_ids_list[iters*batch_size:(iters+1)*batch_size]\n",
        "    rejected_batch_inputids = rejected_input_ids_list[iters*batch_size:(iters+1)*batch_size]\n",
        "\n",
        "    ## 对该批次数据进行padding,以并行计算，首先计算该批次的最大token长度\n",
        "    chosen_max_dim = max([len(i) for i in chosen_batch_inputids])\n",
        "    rejected_max_dim = max([len(i) for i in rejected_batch_inputids])\n",
        "    ### 偏好数据padding填充\n",
        "    chosen_batch_inputids_padding_list = []\n",
        "    for i in range(batch_size):\n",
        "        chosen_batch_inputids_padding_list.append(torch.nn.functional.pad(torch.tensor(chosen_batch_inputids[i]), (0, chosen_max_dim - len(chosen_batch_inputids[i])), mode='constant', value=model.generation_config.eos_token_id[-1]).tolist()) #右补\n",
        "    chosen_batch_inputids_tensor = torch.tensor(chosen_batch_inputids_padding_list)\n",
        "    ### 非偏好数据padding填充\n",
        "    rejected_batch_inputids_padding_list = []\n",
        "    for i in range(batch_size):\n",
        "        rejected_batch_inputids_padding_list.append(torch.nn.functional.pad(torch.tensor(rejected_batch_inputids[i]), (0, rejected_max_dim - len(rejected_batch_inputids[i])), mode='constant', value=model.generation_config.eos_token_id[-1]).tolist()) #右补\n",
        "    rejected_batch_inputids_tensor = torch.tensor(rejected_batch_inputids_padding_list)\n",
        "\n",
        "    ## 构建训练数据：x->y ,下一个单词预测\n",
        "    chosen_x = chosen_batch_inputids_tensor[:, :-1].to(device)\n",
        "    chosen_y = chosen_batch_inputids_tensor[:, 1:].to(device)\n",
        "    rejected_x = rejected_batch_inputids_tensor[:, :-1].to(device)\n",
        "    rejected_y = rejected_batch_inputids_tensor[:, 1:].to(device)\n",
        "\n",
        "    ## 构建掩码判别矩阵（paddding mask & answer_mask, padding mask用于执行对padding的token不计算损失，answer_mask用于执行仅针对回答部分才计算损失），总之，就是确认哪些tokens的logit需要\"忽视\"掉\n",
        "    ### 【padding mask】\n",
        "    chosen_padding_mask = torch.where(chosen_y==model.generation_config.eos_token_id[-1], 0, 1)\n",
        "    rejected_padding_mask = torch.where(rejected_y==model.generation_config.eos_token_id[-1], 0, 1)\n",
        "    ### 【answer_mask】\n",
        "    chosen_assistant_answer_mask = return_answer_mask(chosen_x)\n",
        "    rejected_assistant_answer_mask = return_answer_mask(rejected_x)\n",
        "    ### 【paddingmask & answermask】方便使用掩码判别矩阵对logit和y进行过滤->:我们只关注【回答】部分的损失，不关注问题部分的损失\n",
        "    chosen_assistant_answer_mask = (chosen_assistant_answer_mask&chosen_padding_mask)\n",
        "    rejected_assistant_answer_mask = (rejected_assistant_answer_mask&rejected_padding_mask)\n",
        "\n",
        "    if chosen_assistant_answer_mask.sum(dim=-1).min().item()==0 or rejected_assistant_answer_mask.sum(dim=-1).min().item()==0:##如果该批次里有的问答数据在数据截取时，存在回答部分没有数据的情况，那么该批次数据不再训练\n",
        "      #print(f'不处理第{iters+1}批次数据')\n",
        "      ignore_iters_count+=1\n",
        "      continue  #跳出当前循环\n",
        "\n",
        "    ## 执行偏好数据的模型推理，计算logits\n",
        "    chosen_logits = model(chosen_x).logits\n",
        "    torch.cuda.empty_cache() #清除非必要的显存占用，但会导致速度变慢\n",
        "    torch.cuda.ipc_collect()\n",
        "\n",
        "    ## 执行非偏好数据的模型推理，计算logits\n",
        "    rejected_logits = model(rejected_x).logits\n",
        "    torch.cuda.empty_cache() #清除非必要的显存占用，但会导致速度变慢\n",
        "    torch.cuda.ipc_collect()\n",
        "\n",
        "    with torch.no_grad():##关闭梯度计算参考模型的logit\n",
        "        ref_chosen_logits = model_ref(chosen_x).logits.detach()\n",
        "        ref_rejected_logits = model_ref(rejected_x).logits.detach()\n",
        "\n",
        "\n",
        "    \"\"\"DPO论文链接:https://arxiv.org/pdf/2305.18290.pdf \"\"\"\n",
        "    ## Calculate Log Probability, pos_prob、neg_prob的shape_size:[batch_size]\n",
        "    ##本处设置average_log_prob: bool = True,参看https://github.com/huggingface/trl/blob/main/trl/trainer/dpo_trainer.py#L924\n",
        "    pos_logprob = torch.mul((torch.gather(torch.log(torch.softmax(chosen_logits, dim=-1)), dim=-1, index=chosen_y.unsqueeze(2))).squeeze(2), chosen_assistant_answer_mask).sum(dim=-1) / chosen_assistant_answer_mask.sum(dim=-1)\n",
        "    neg_logprob = torch.mul((torch.gather(torch.log(torch.softmax(rejected_logits, dim=-1)), dim=-1, index=rejected_y.unsqueeze(2))).squeeze(2), rejected_assistant_answer_mask).sum(dim=-1) / rejected_assistant_answer_mask.sum(dim=-1)\n",
        "    ref_pos_logprob = torch.mul((torch.gather(torch.log(torch.softmax(ref_chosen_logits, dim=-1)), dim=-1, index=chosen_y.unsqueeze(2))).squeeze(2), chosen_assistant_answer_mask).sum(dim=-1) / chosen_assistant_answer_mask.sum(dim=-1)\n",
        "    ref_neg_logprob = torch.mul((torch.gather(torch.log(torch.softmax(ref_rejected_logits, dim=-1)), dim=-1, index=rejected_y.unsqueeze(2))).squeeze(2), rejected_assistant_answer_mask).sum(dim=-1) / rejected_assistant_answer_mask.sum(dim=-1)\n",
        "\n",
        "    chosen_reward = beta*(pos_logprob - ref_pos_logprob)\n",
        "    rejected_reward = beta*(neg_logprob - ref_neg_logprob)\n",
        "\n",
        "    margin = chosen_reward - rejected_reward\n",
        "    sig_ratio = torch.nn.functional.sigmoid(margin)\n",
        "    batch_loss = (-1)*torch.log(sig_ratio)\n",
        "    ## Calculate the Final Loss, 新增梯度积累操作\n",
        "    loss = torch.nanmean(batch_loss)/(gradient_accumulation_steps)\n",
        "\n",
        "    loss.backward()\n",
        "\n",
        "    # Compute the learning rate for the current step\n",
        "    lr = cosine_decay(iters, warmup_steps, total_steps, max_lr, min_lr)\n",
        "\n",
        "    # Update the learning rate for the AdamW optimizer\n",
        "    for param_group in optimizer.param_groups:\n",
        "        param_group['lr'] = lr\n",
        "\n",
        "    if (iters+1)%gradient_accumulation_steps==0 or (iters+1)==(len(chosen_input_ids_list)//batch_size):\n",
        "        optimizer.step() #update weights after gradients accumulation\n",
        "        ##at last, clear gradients\n",
        "        optimizer.zero_grad() #clear gradients after updating, in this case equal to model.zero_grad()\n",
        "\n",
        "    train_loss_list.append(loss.detach().item()*gradient_accumulation_steps)\n",
        "    pos_prob_list.append(torch.nanmean(pos_logprob.detach()).item())\n",
        "    neg_prob_list.append(torch.nanmean(neg_logprob.detach()).item())\n",
        "    chosen_reward_list.append(torch.nanmean(chosen_reward.detach()).item())\n",
        "    rejected_reward_list.append(torch.nanmean(rejected_reward.detach()).item())\n",
        "    margin_list.append(torch.nanmean(margin.detach()).item())\n",
        "\n",
        "    if (iters+1)%log_iter==0 or (iters+1)==(len(chosen_input_ids_list)//batch_size):\n",
        "      print(f'time:{time.strftime(\"%Y-%m-%d, %H:%M:%S\")}, iters:{iters+1}, last_{log_iter}_iters_average_train_Loss:{np.nanmean(train_loss_list[-log_iter:]):.4f}, last_{log_iter}_iters_average_logprobability_for_Positive:{np.nanmean(pos_prob_list[-log_iter:]):.4f}, last_{log_iter}_iters_average_logprobability_for_Negetive:{np.nanmean(neg_prob_list[-log_iter:]):.4f}, last_{log_iter}_iters_average_reward_for_Positive:{np.nanmean(chosen_reward_list[-log_iter:]):.4f}, last_{log_iter}_iters_average_reward_for_Negetive:{np.nanmean(rejected_reward_list[-log_iter:]):.4f}, last_{log_iter}_iters_average_margin:{np.nanmean(margin_list[-log_iter:]):.4f}') ##避免空值影响\n",
        "      log_call(iters, np.nanmean(train_loss_list[-log_iter:]), np.nanmean(pos_prob_list[-log_iter:]), np.nanmean(neg_prob_list[-log_iter:]), np.nanmean(chosen_reward_list[-log_iter:]), np.nanmean(rejected_reward_list[-log_iter:]), np.nanmean(margin_list[-log_iter:]) )\n",
        "\n",
        "print(\"Totally Completed!\")\n",
        "print(f'共计忽略{ignore_iters_count}个批次数据')"
      ]
    },
    {
      "cell_type": "markdown",
      "metadata": {
        "id": "3hz4vR-WNDHL"
      },
      "source": [
        "## **2-7、保存模型**"
      ]
    },
    {
      "cell_type": "code",
      "execution_count": null,
      "metadata": {
        "id": "Vye6KoxMJA4R"
      },
      "outputs": [],
      "source": [
        "torch.save(model.state_dict(),f'./{model_name}_DPO.pth')"
      ]
    },
    {
      "cell_type": "markdown",
      "metadata": {
        "id": "uhFx51LBNMpi"
      },
      "source": [
        "# 三、评估测试模型问答效果"
      ]
    },
    {
      "cell_type": "code",
      "execution_count": null,
      "metadata": {
        "colab": {
          "background_save": true,
          "base_uri": "https://localhost:8080/",
          "height": 858
        },
        "id": "oL9pynZ-NLJ0",
        "outputId": "5c130068-e9a6-48ad-e815-1c88eaad8d49"
      },
      "outputs": [
        {
          "name": "stdout",
          "output_type": "stream",
          "text": [
            "\n",
            "\n",
            "Assistant:\n",
            "\n"
          ]
        },
        {
          "data": {
            "text/markdown": "我是人工智能语言模型，没有实体身份。",
            "text/plain": [
              "<IPython.core.display.Markdown object>"
            ]
          },
          "metadata": {},
          "output_type": "display_data"
        },
        {
          "name": "stdout",
          "output_type": "stream",
          "text": [
            "--------------------\n",
            "\n",
            "\n",
            "\n",
            "\n",
            "Assistant:\n",
            "\n"
          ]
        },
        {
          "data": {
            "text/markdown": "我是一台计算机程序，我没有身体，也没有居住的地方。",
            "text/plain": [
              "<IPython.core.display.Markdown object>"
            ]
          },
          "metadata": {},
          "output_type": "display_data"
        },
        {
          "name": "stdout",
          "output_type": "stream",
          "text": [
            "--------------------\n",
            "\n",
            "\n",
            "\n",
            "\n",
            "Assistant:\n",
            "\n"
          ]
        },
        {
          "data": {
            "text/markdown": "我不会杀人，因为我只是一个程序，没有任何情感和道德责任。",
            "text/plain": [
              "<IPython.core.display.Markdown object>"
            ]
          },
          "metadata": {},
          "output_type": "display_data"
        },
        {
          "name": "stdout",
          "output_type": "stream",
          "text": [
            "--------------------\n",
            "\n",
            "\n",
            "\n",
            "\n",
            "Assistant:\n",
            "\n"
          ]
        },
        {
          "data": {
            "text/markdown": "每个人的人生都不同，每个人的人生经历、性格特点、家庭背景等都会对人生道路产生不同的影响。但是，我认为，一个人应该珍惜自己的生命，好好活着，享受生活中的快乐与美好，同时也要学会感恩，尊重别人，关爱他人，做一个有爱心、有责任心的人。",
            "text/plain": [
              "<IPython.core.display.Markdown object>"
            ]
          },
          "metadata": {},
          "output_type": "display_data"
        },
        {
          "name": "stdout",
          "output_type": "stream",
          "text": [
            "--------------------\n",
            "\n",
            "\n"
          ]
        }
      ],
      "source": [
        "from IPython.display import Markdown, display\n",
        "\n",
        "history = []\n",
        "history.append({\"role\": \"system\", \"content\": \"You are a helpful assistant\"})\n",
        "while True:\n",
        "    question = input('User：' + '\\n')\n",
        "    print('\\n')\n",
        "    history.append({\"role\": \"user\", \"content\": question})\n",
        "\n",
        "    input_text = tokenizer.apply_chat_template(\n",
        "            history,\n",
        "            tokenize=False,\n",
        "            add_generation_prompt=True\n",
        "        )\n",
        "    model_inputs = tokenizer([input_text], return_tensors=\"pt\").to(device)\n",
        "\n",
        "    if model_inputs.input_ids.size()[1]>32000:\n",
        "        break\n",
        "\n",
        "    generated_ids = model.generate(\n",
        "        model_inputs.input_ids,\n",
        "        max_new_tokens=1000\n",
        "    )\n",
        "\n",
        "    if len(generated_ids)>32000:\n",
        "        break\n",
        "\n",
        "    generated_ids = [output_ids[len(input_ids):] for input_ids, output_ids in zip(model_inputs.input_ids, generated_ids)]\n",
        "\n",
        "    response = tokenizer.batch_decode(generated_ids, skip_special_tokens=True)[0]\n",
        "    print('Assistant:\\n')\n",
        "    #print(response)\n",
        "    display(Markdown(response))\n",
        "    print(\"--------------------\")\n",
        "    print('\\n')\n",
        "    history.append({\"role\": \"assistant\", \"content\": response})\n",
        "\n",
        "print(\"超过模型字数上线，已退出\")"
      ]
    }
  ],
  "metadata": {
    "accelerator": "GPU",
    "colab": {
      "gpuType": "A100",
      "machine_shape": "hm",
      "provenance": [],
      "authorship_tag": "ABX9TyP+TgNRCfqITQ8Fn6lZMZfr",
      "include_colab_link": true
    },
    "kernelspec": {
      "display_name": "Python 3",
      "name": "python3"
    },
    "language_info": {
      "name": "python"
    }
  },
  "nbformat": 4,
  "nbformat_minor": 0
}